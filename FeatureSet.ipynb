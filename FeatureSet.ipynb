{
 "cells": [
  {
   "cell_type": "markdown",
   "metadata": {},
   "source": [
    "# Features of Text\n",
    "\n",
    "\n",
    "## Bag of words feature extraction"
   ]
  },
  {
   "cell_type": "code",
   "execution_count": 1,
   "metadata": {
    "ExecuteTime": {
     "end_time": "2020-11-09T14:38:43.571867Z",
     "start_time": "2020-11-09T14:38:43.559932Z"
    }
   },
   "outputs": [],
   "source": [
    "# 주어진 문서(word tokenize된 결과)에 대해 feature set을 dictionary 형태로 구성해서 반환\n",
    "def bag_of_words(words):\n",
    "    return dict([(word, True) for word in words]) #있는 단어들에 대해 True로 표시, 없는 단어는 표시 안 함"
   ]
  },
  {
   "cell_type": "code",
   "execution_count": 2,
   "metadata": {
    "ExecuteTime": {
     "end_time": "2020-11-09T14:38:45.414034Z",
     "start_time": "2020-11-09T14:38:45.394105Z"
    }
   },
   "outputs": [
    {
     "data": {
      "text/plain": [
       "{'the': True, 'quick': True, 'brown': True, 'fox': True}"
      ]
     },
     "execution_count": 2,
     "metadata": {},
     "output_type": "execute_result"
    }
   ],
   "source": [
    "bag_of_words(['the', 'quick', 'brown', 'fox'])"
   ]
  },
  {
   "cell_type": "markdown",
   "metadata": {},
   "source": [
    "## NLTK Corpus\n",
    "https://www.nltk.org/book/ch02.html\n",
    "### movie_reviews\n",
    "NLTK Corpus 중 movie review 수집 데이터로, 감성분석 결과(pos, neg)가 label로 붙어 있음<br>\n",
    "Compiler: Pang, Lee<br>\n",
    "Contents: 2k movie reviews with sentiment polarity classification"
   ]
  },
  {
   "cell_type": "code",
   "execution_count": 3,
   "metadata": {
    "ExecuteTime": {
     "end_time": "2020-11-09T14:38:58.859295Z",
     "start_time": "2020-11-09T14:38:57.702395Z"
    }
   },
   "outputs": [
    {
     "name": "stdout",
     "output_type": "stream",
     "text": [
      "review count: 2000\n",
      "['neg/cv000_29416.txt', 'neg/cv001_19502.txt', 'neg/cv002_17424.txt', 'neg/cv003_12683.txt', 'neg/cv004_12641.txt', 'neg/cv005_29357.txt', 'neg/cv006_17022.txt', 'neg/cv007_4992.txt', 'neg/cv008_29326.txt', 'neg/cv009_29417.txt']\n",
      "['neg', 'pos']\n",
      "\"neg\" reviews: 1000\n",
      "\"pos\" reviews: 1000\n",
      "id: neg/cv000_29416.txt\n",
      "plot : two teen couples go to a church party , drink and then drive . \n",
      "they get into an accident . \n",
      "one of the guys dies , but his girlfriend continues to see him in her life , and has nightmares . \n",
      "what's the deal ? \n",
      "watch the movie and \" sorta \" find out . . . \n",
      "critique : a mind-fuck movie for the teen generation that touches on a very cool idea , but presents it in a very bad package . \n",
      "which is what makes this review an even harder one to write , since i generally applaud films which attempt\n",
      "[['plot', ':', 'two', 'teen', 'couples', 'go', 'to', 'a', 'church', 'party', ',', 'drink', 'and', 'then', 'drive', '.'], ['they', 'get', 'into', 'an', 'accident', '.']]\n",
      "['plot', ':', 'two', 'teen', 'couples', 'go', 'to', 'a', 'church', 'party']\n"
     ]
    },
    {
     "name": "stderr",
     "output_type": "stream",
     "text": [
      "[nltk_data] Downloading package movie_reviews to\n",
      "[nltk_data]     C:\\Users\\82103\\AppData\\Roaming\\nltk_data...\n",
      "[nltk_data]   Package movie_reviews is already up-to-date!\n"
     ]
    }
   ],
   "source": [
    "import nltk\n",
    "nltk.download('movie_reviews')\n",
    "\n",
    "from nltk.corpus import movie_reviews\n",
    "\n",
    "print('review count:', len(movie_reviews.fileids())) #영화 리뷰 문서의 id를 반환\n",
    "print(movie_reviews.fileids()[:10]) #id를 10개까지만 출력\n",
    "print(movie_reviews.categories()) # label, 즉 긍정인지 부정인지에 대한 분류\n",
    "print('\"neg\" reviews:', len(movie_reviews.fileids(categories='neg'))) #label이 부정인 문서들의 id를 반환\n",
    "print('\"pos\" reviews:', len(movie_reviews.fileids(categories='pos'))) #label이 긍정인 문서들의 id를 반환\n",
    "fileid = movie_reviews.fileids()[0] #첫번째 문서의 id를 반환\n",
    "print('id:', fileid)\n",
    "print(movie_reviews.raw(fileid)[:500]) #첫번째 문서의 내용을 500자까지만 출력\n",
    "print(movie_reviews.sents(fileid)[:2]) #첫번째 문서를 sentence tokenize한 결과 중 앞 두 문장\n",
    "print(movie_reviews.words(fileid)[:10]) #첫번째 문서를 word tokenize한 결과 중 앞 열 단어"
   ]
  },
  {
   "cell_type": "markdown",
   "metadata": {},
   "source": [
    "#### bag of words model을 이용한 feature 추출 첫번째 방법\n",
    "label 별로 각 문서들에 대한 feature를 생성 - bag_of_words() 함수를 이용\n",
    "\n",
    "collections(https://docs.python.org/2/library/collections.html) - High-performance container datatypes - 를 이용하여 feature set을 저장. 하나의 label(ex. 'neg')에 1,000개의 feature set을 할당해야 하므로 단순 dictionary가 아닌 container를 사용. 각 feature는 dictionary로 이루어져 있음"
   ]
  },
  {
   "cell_type": "code",
   "execution_count": 4,
   "metadata": {
    "ExecuteTime": {
     "end_time": "2020-11-09T14:39:08.723764Z",
     "start_time": "2020-11-09T14:39:06.728266Z"
    }
   },
   "outputs": [
    {
     "name": "stdout",
     "output_type": "stream",
     "text": [
      "dict_keys(['neg', 'pos'])\n"
     ]
    }
   ],
   "source": [
    "import collections\n",
    "\n",
    "#feature 추출을 위한 함수로, 앞서 정의한 bag_of_words()를 사용\n",
    "def label_feats_from_corpus(corp, feature_detector=bag_of_words): \n",
    "    label_feats = collections.defaultdict(list) # container 초기화\n",
    "    for label in corp.categories(): #''neg', 'pos' 각 label에 대해\n",
    "        for fileid in corp.fileids(categories=[label]): #각 label에 해당하는 문서들에 대해\n",
    "            feats = feature_detector(corp.words(fileids=[fileid])) #주어진 문서를 bag_of_words feature로 변환\n",
    "            label_feats[label].append(feats) #container에 feature 추가\n",
    "    return label_feats\n",
    "\n",
    "lfeats = label_feats_from_corpus(movie_reviews)\n",
    "print(lfeats.keys())"
   ]
  },
  {
   "cell_type": "code",
   "execution_count": 5,
   "metadata": {
    "ExecuteTime": {
     "end_time": "2020-11-09T14:39:54.714925Z",
     "start_time": "2020-11-09T14:39:54.700963Z"
    }
   },
   "outputs": [
    {
     "data": {
      "text/plain": [
       "1000"
      ]
     },
     "execution_count": 5,
     "metadata": {},
     "output_type": "execute_result"
    }
   ],
   "source": [
    "len(lfeats['neg'])"
   ]
  },
  {
   "cell_type": "markdown",
   "metadata": {},
   "source": [
    "리스트에서 문자열로 변환"
   ]
  },
  {
   "cell_type": "code",
   "execution_count": 6,
   "metadata": {
    "ExecuteTime": {
     "end_time": "2020-11-09T14:39:56.243615Z",
     "start_time": "2020-11-09T14:39:56.224664Z"
    }
   },
   "outputs": [
    {
     "data": {
      "text/plain": [
       "'plot, :, two, teen, couples, go, to, a, church, party, ,, drink, and, then, drive, ., they, get, into, an, accident, one, of, the, guys, dies, but, his, girlfriend, continues, see, him, in, her, life, has, nightmares, what, \\', s, deal, ?, watch, movie, \", sorta, find, out, critique, mind, -, fuck, for, generation, that, touches, on, very, cool, idea, presents, it, bad, package, which, is, makes, this, review, even, harder, write, since, i, generally, applaud, films, attempt, break, mold, mess, with, your, head, such, (, lost, highway, &, memento, ), there, are, good, ways, making, all, types, these, folks, just, didn, t, snag, correctly, seem, have, taken, pretty, neat, concept, executed, terribly, so, problems, well, its, main, problem, simply, too, jumbled, starts, off, normal, downshifts, fantasy, world, you, as, audience, member, no, going, dreams, characters, coming, back, from, dead, others, who, look, like, strange, apparitions, disappearances, looooot, chase, scenes, tons, weird, things, happen, most, not, explained, now, personally, don, trying, unravel, film, every, when, does, give, me, same, clue, over, again, kind, fed, up, after, while, biggest, obviously, got, big, secret, hide, seems, want, completely, until, final, five, minutes, do, make, entertaining, thrilling, or, engaging, meantime, really, sad, part, arrow, both, dig, flicks, we, actually, figured, by, half, way, point, strangeness, did, start, little, bit, sense, still, more, guess, bottom, line, movies, should, always, sure, before, given, password, enter, understanding, mean, showing, melissa, sagemiller, running, away, visions, about, 20, throughout, plain, lazy, !, okay, people, chasing, know, need, how, giving, us, different, offering, further, insight, down, apparently, studio, took, director, chopped, themselves, shows, might, ve, been, decent, here, somewhere, suits, decided, turning, music, video, edge, would, actors, although, wes, bentley, seemed, be, playing, exact, character, he, american, beauty, only, new, neighborhood, my, kudos, holds, own, entire, feeling, unraveling, overall, doesn, stick, because, entertain, confusing, rarely, excites, feels, redundant, runtime, despite, ending, explanation, craziness, came, oh, horror, slasher, flick, packaged, someone, assuming, genre, hot, kids, also, wrapped, production, years, ago, sitting, shelves, ever, whatever, skip, where, joblo, nightmare, elm, street, 3, 7, /, 10, blair, witch, 2, crow, 9, salvation, 4, stir, echoes, 8'"
      ]
     },
     "execution_count": 6,
     "metadata": {},
     "output_type": "execute_result"
    }
   ],
   "source": [
    "\", \".join(lfeats['neg'][0])"
   ]
  },
  {
   "cell_type": "code",
   "execution_count": 7,
   "metadata": {
    "ExecuteTime": {
     "end_time": "2020-11-09T14:39:57.876678Z",
     "start_time": "2020-11-09T14:39:57.857696Z"
    }
   },
   "outputs": [
    {
     "data": {
      "text/plain": [
       "{'plot': True,\n",
       " ':': True,\n",
       " 'two': True,\n",
       " 'teen': True,\n",
       " 'couples': True,\n",
       " 'go': True,\n",
       " 'to': True,\n",
       " 'a': True,\n",
       " 'church': True,\n",
       " 'party': True,\n",
       " ',': True,\n",
       " 'drink': True,\n",
       " 'and': True,\n",
       " 'then': True,\n",
       " 'drive': True,\n",
       " '.': True,\n",
       " 'they': True,\n",
       " 'get': True,\n",
       " 'into': True,\n",
       " 'an': True,\n",
       " 'accident': True,\n",
       " 'one': True,\n",
       " 'of': True,\n",
       " 'the': True,\n",
       " 'guys': True,\n",
       " 'dies': True,\n",
       " 'but': True,\n",
       " 'his': True,\n",
       " 'girlfriend': True,\n",
       " 'continues': True,\n",
       " 'see': True,\n",
       " 'him': True,\n",
       " 'in': True,\n",
       " 'her': True,\n",
       " 'life': True,\n",
       " 'has': True,\n",
       " 'nightmares': True,\n",
       " 'what': True,\n",
       " \"'\": True,\n",
       " 's': True,\n",
       " 'deal': True,\n",
       " '?': True,\n",
       " 'watch': True,\n",
       " 'movie': True,\n",
       " '\"': True,\n",
       " 'sorta': True,\n",
       " 'find': True,\n",
       " 'out': True,\n",
       " 'critique': True,\n",
       " 'mind': True,\n",
       " '-': True,\n",
       " 'fuck': True,\n",
       " 'for': True,\n",
       " 'generation': True,\n",
       " 'that': True,\n",
       " 'touches': True,\n",
       " 'on': True,\n",
       " 'very': True,\n",
       " 'cool': True,\n",
       " 'idea': True,\n",
       " 'presents': True,\n",
       " 'it': True,\n",
       " 'bad': True,\n",
       " 'package': True,\n",
       " 'which': True,\n",
       " 'is': True,\n",
       " 'makes': True,\n",
       " 'this': True,\n",
       " 'review': True,\n",
       " 'even': True,\n",
       " 'harder': True,\n",
       " 'write': True,\n",
       " 'since': True,\n",
       " 'i': True,\n",
       " 'generally': True,\n",
       " 'applaud': True,\n",
       " 'films': True,\n",
       " 'attempt': True,\n",
       " 'break': True,\n",
       " 'mold': True,\n",
       " 'mess': True,\n",
       " 'with': True,\n",
       " 'your': True,\n",
       " 'head': True,\n",
       " 'such': True,\n",
       " '(': True,\n",
       " 'lost': True,\n",
       " 'highway': True,\n",
       " '&': True,\n",
       " 'memento': True,\n",
       " ')': True,\n",
       " 'there': True,\n",
       " 'are': True,\n",
       " 'good': True,\n",
       " 'ways': True,\n",
       " 'making': True,\n",
       " 'all': True,\n",
       " 'types': True,\n",
       " 'these': True,\n",
       " 'folks': True,\n",
       " 'just': True,\n",
       " 'didn': True,\n",
       " 't': True,\n",
       " 'snag': True,\n",
       " 'correctly': True,\n",
       " 'seem': True,\n",
       " 'have': True,\n",
       " 'taken': True,\n",
       " 'pretty': True,\n",
       " 'neat': True,\n",
       " 'concept': True,\n",
       " 'executed': True,\n",
       " 'terribly': True,\n",
       " 'so': True,\n",
       " 'problems': True,\n",
       " 'well': True,\n",
       " 'its': True,\n",
       " 'main': True,\n",
       " 'problem': True,\n",
       " 'simply': True,\n",
       " 'too': True,\n",
       " 'jumbled': True,\n",
       " 'starts': True,\n",
       " 'off': True,\n",
       " 'normal': True,\n",
       " 'downshifts': True,\n",
       " 'fantasy': True,\n",
       " 'world': True,\n",
       " 'you': True,\n",
       " 'as': True,\n",
       " 'audience': True,\n",
       " 'member': True,\n",
       " 'no': True,\n",
       " 'going': True,\n",
       " 'dreams': True,\n",
       " 'characters': True,\n",
       " 'coming': True,\n",
       " 'back': True,\n",
       " 'from': True,\n",
       " 'dead': True,\n",
       " 'others': True,\n",
       " 'who': True,\n",
       " 'look': True,\n",
       " 'like': True,\n",
       " 'strange': True,\n",
       " 'apparitions': True,\n",
       " 'disappearances': True,\n",
       " 'looooot': True,\n",
       " 'chase': True,\n",
       " 'scenes': True,\n",
       " 'tons': True,\n",
       " 'weird': True,\n",
       " 'things': True,\n",
       " 'happen': True,\n",
       " 'most': True,\n",
       " 'not': True,\n",
       " 'explained': True,\n",
       " 'now': True,\n",
       " 'personally': True,\n",
       " 'don': True,\n",
       " 'trying': True,\n",
       " 'unravel': True,\n",
       " 'film': True,\n",
       " 'every': True,\n",
       " 'when': True,\n",
       " 'does': True,\n",
       " 'give': True,\n",
       " 'me': True,\n",
       " 'same': True,\n",
       " 'clue': True,\n",
       " 'over': True,\n",
       " 'again': True,\n",
       " 'kind': True,\n",
       " 'fed': True,\n",
       " 'up': True,\n",
       " 'after': True,\n",
       " 'while': True,\n",
       " 'biggest': True,\n",
       " 'obviously': True,\n",
       " 'got': True,\n",
       " 'big': True,\n",
       " 'secret': True,\n",
       " 'hide': True,\n",
       " 'seems': True,\n",
       " 'want': True,\n",
       " 'completely': True,\n",
       " 'until': True,\n",
       " 'final': True,\n",
       " 'five': True,\n",
       " 'minutes': True,\n",
       " 'do': True,\n",
       " 'make': True,\n",
       " 'entertaining': True,\n",
       " 'thrilling': True,\n",
       " 'or': True,\n",
       " 'engaging': True,\n",
       " 'meantime': True,\n",
       " 'really': True,\n",
       " 'sad': True,\n",
       " 'part': True,\n",
       " 'arrow': True,\n",
       " 'both': True,\n",
       " 'dig': True,\n",
       " 'flicks': True,\n",
       " 'we': True,\n",
       " 'actually': True,\n",
       " 'figured': True,\n",
       " 'by': True,\n",
       " 'half': True,\n",
       " 'way': True,\n",
       " 'point': True,\n",
       " 'strangeness': True,\n",
       " 'did': True,\n",
       " 'start': True,\n",
       " 'little': True,\n",
       " 'bit': True,\n",
       " 'sense': True,\n",
       " 'still': True,\n",
       " 'more': True,\n",
       " 'guess': True,\n",
       " 'bottom': True,\n",
       " 'line': True,\n",
       " 'movies': True,\n",
       " 'should': True,\n",
       " 'always': True,\n",
       " 'sure': True,\n",
       " 'before': True,\n",
       " 'given': True,\n",
       " 'password': True,\n",
       " 'enter': True,\n",
       " 'understanding': True,\n",
       " 'mean': True,\n",
       " 'showing': True,\n",
       " 'melissa': True,\n",
       " 'sagemiller': True,\n",
       " 'running': True,\n",
       " 'away': True,\n",
       " 'visions': True,\n",
       " 'about': True,\n",
       " '20': True,\n",
       " 'throughout': True,\n",
       " 'plain': True,\n",
       " 'lazy': True,\n",
       " '!': True,\n",
       " 'okay': True,\n",
       " 'people': True,\n",
       " 'chasing': True,\n",
       " 'know': True,\n",
       " 'need': True,\n",
       " 'how': True,\n",
       " 'giving': True,\n",
       " 'us': True,\n",
       " 'different': True,\n",
       " 'offering': True,\n",
       " 'further': True,\n",
       " 'insight': True,\n",
       " 'down': True,\n",
       " 'apparently': True,\n",
       " 'studio': True,\n",
       " 'took': True,\n",
       " 'director': True,\n",
       " 'chopped': True,\n",
       " 'themselves': True,\n",
       " 'shows': True,\n",
       " 'might': True,\n",
       " 've': True,\n",
       " 'been': True,\n",
       " 'decent': True,\n",
       " 'here': True,\n",
       " 'somewhere': True,\n",
       " 'suits': True,\n",
       " 'decided': True,\n",
       " 'turning': True,\n",
       " 'music': True,\n",
       " 'video': True,\n",
       " 'edge': True,\n",
       " 'would': True,\n",
       " 'actors': True,\n",
       " 'although': True,\n",
       " 'wes': True,\n",
       " 'bentley': True,\n",
       " 'seemed': True,\n",
       " 'be': True,\n",
       " 'playing': True,\n",
       " 'exact': True,\n",
       " 'character': True,\n",
       " 'he': True,\n",
       " 'american': True,\n",
       " 'beauty': True,\n",
       " 'only': True,\n",
       " 'new': True,\n",
       " 'neighborhood': True,\n",
       " 'my': True,\n",
       " 'kudos': True,\n",
       " 'holds': True,\n",
       " 'own': True,\n",
       " 'entire': True,\n",
       " 'feeling': True,\n",
       " 'unraveling': True,\n",
       " 'overall': True,\n",
       " 'doesn': True,\n",
       " 'stick': True,\n",
       " 'because': True,\n",
       " 'entertain': True,\n",
       " 'confusing': True,\n",
       " 'rarely': True,\n",
       " 'excites': True,\n",
       " 'feels': True,\n",
       " 'redundant': True,\n",
       " 'runtime': True,\n",
       " 'despite': True,\n",
       " 'ending': True,\n",
       " 'explanation': True,\n",
       " 'craziness': True,\n",
       " 'came': True,\n",
       " 'oh': True,\n",
       " 'horror': True,\n",
       " 'slasher': True,\n",
       " 'flick': True,\n",
       " 'packaged': True,\n",
       " 'someone': True,\n",
       " 'assuming': True,\n",
       " 'genre': True,\n",
       " 'hot': True,\n",
       " 'kids': True,\n",
       " 'also': True,\n",
       " 'wrapped': True,\n",
       " 'production': True,\n",
       " 'years': True,\n",
       " 'ago': True,\n",
       " 'sitting': True,\n",
       " 'shelves': True,\n",
       " 'ever': True,\n",
       " 'whatever': True,\n",
       " 'skip': True,\n",
       " 'where': True,\n",
       " 'joblo': True,\n",
       " 'nightmare': True,\n",
       " 'elm': True,\n",
       " 'street': True,\n",
       " '3': True,\n",
       " '7': True,\n",
       " '/': True,\n",
       " '10': True,\n",
       " 'blair': True,\n",
       " 'witch': True,\n",
       " '2': True,\n",
       " 'crow': True,\n",
       " '9': True,\n",
       " 'salvation': True,\n",
       " '4': True,\n",
       " 'stir': True,\n",
       " 'echoes': True,\n",
       " '8': True}"
      ]
     },
     "execution_count": 7,
     "metadata": {},
     "output_type": "execute_result"
    }
   ],
   "source": [
    "lfeats['neg'][0]"
   ]
  },
  {
   "cell_type": "markdown",
   "metadata": {},
   "source": [
    "#### bag of words model을 이용한 feature 추출 두번째 방법\n",
    "1. 각 문서를 먼저 word list와 label의 list로 변환<br>\n",
    "2. feature 추출 대상이 되는 단어 집합 구성 - 이 때 전체 words들에 대한 frequency data를 이용해 상위 n개의 단어만으로 feature 구성이 가능\n",
    "3. 각 문서에 대해 feature 추출 대상 단어들을 대상으로 해당 단어가 문서에 있는 지의 여부를 dictionary로 생성\n",
    "4. 생성된 feature와 label로 문서들에 대한 feature set을 구성"
   ]
  },
  {
   "cell_type": "code",
   "execution_count": 9,
   "metadata": {},
   "outputs": [],
   "source": [
    "from nltk.corpus import movie_reviews\n",
    "import random\n",
    "# category 별로 fileid를 추출하고, 해당 fileid에 대해 문서의 word tokenize된 결과를 가져와서 \n",
    "# documents 집합을 구성\n",
    "documents = [(list(movie_reviews.words(fileid)), category)\n",
    "              for category in movie_reviews.categories()\n",
    "              for fileid in movie_reviews.fileids(category)]\n",
    "random.shuffle(documents)"
   ]
  },
  {
   "cell_type": "code",
   "execution_count": 10,
   "metadata": {},
   "outputs": [],
   "source": [
    "#nltk FreqDist 함수를 이용하여 단어별로 빈도 수를 계산\n",
    "all_words = nltk.FreqDist(w.lower() for w in movie_reviews.words())"
   ]
  },
  {
   "cell_type": "code",
   "execution_count": 11,
   "metadata": {},
   "outputs": [
    {
     "name": "stdout",
     "output_type": "stream",
     "text": [
      "plot 1513\n",
      ": 3042\n",
      "two 1911\n",
      "teen 151\n",
      "couples 27\n",
      "go 1113\n",
      "to 31937\n",
      "a 38106\n",
      "church 69\n",
      "party 183\n"
     ]
    }
   ],
   "source": [
    "for word in list(all_words)[:10]:\n",
    "    print(word, all_words[word])"
   ]
  },
  {
   "cell_type": "code",
   "execution_count": 12,
   "metadata": {},
   "outputs": [
    {
     "name": "stdout",
     "output_type": "stream",
     "text": [
      ", 77717\n",
      "the 76529\n",
      ". 65876\n",
      "a 38106\n",
      "and 35576\n",
      "of 34123\n",
      "to 31937\n",
      "' 30585\n",
      "is 25195\n",
      "in 21822\n",
      "[',', 'the', '.', 'a', 'and', 'of', 'to', \"'\", 'is', 'in']\n"
     ]
    }
   ],
   "source": [
    "sorted_features = sorted(all_words, key=all_words.get, reverse=True)\n",
    "for word in sorted_features[:10]:\n",
    "    print(word, all_words[word])\n",
    "print(sorted_features[:10])"
   ]
  },
  {
   "cell_type": "code",
   "execution_count": 13,
   "metadata": {},
   "outputs": [
    {
     "name": "stdout",
     "output_type": "stream",
     "text": [
      "[',', 'the', '.', 'a', 'and', 'of', 'to', \"'\", 'is', 'in', 's', '\"', 'it', 'that', '-', ')', '(', 'as', 'with', 'for', 'his', 'this', 'film', 'i', 'he', 'but', 'on', 'are', 't', 'by', 'be', 'one', 'movie', 'an', 'who', 'not', 'you', 'from', 'at', 'was', 'have', 'they', 'has', 'her', 'all', '?', 'there', 'like', 'so', 'out', 'about', 'up', 'more', 'what', 'when', 'which', 'or', 'she', 'their', ':', 'some', 'just', 'can', 'if', 'we', 'him', 'into', 'even', 'only', 'than', 'no', 'good', 'time', 'most', 'its', 'will', 'story', 'would', 'been', 'much', 'character', 'also', 'get', 'other', 'do', 'two', 'well', 'them', 'very', 'characters', ';', 'first', '--', 'after', 'see', '!', 'way', 'because', 'make', 'life']\n"
     ]
    }
   ],
   "source": [
    "word_features = sorted_features[:2000] #빈도가 높은 상위 2000개의 단어만 추출하여 features를 구성\n",
    "\n",
    "print(word_features[:100])"
   ]
  },
  {
   "cell_type": "code",
   "execution_count": 14,
   "metadata": {},
   "outputs": [],
   "source": [
    "#주어진 document를 feature로 변환하는 함수, word_features를 사용\n",
    "def document_features(document, word_features):\n",
    "    document_words = set(document)\n",
    "    features = {}\n",
    "    for word in word_features:\n",
    "        features[word] = (word in document_words) #2000개의 단어에 대해 True, False로 입력\n",
    "    return features"
   ]
  },
  {
   "cell_type": "code",
   "execution_count": 15,
   "metadata": {},
   "outputs": [],
   "source": [
    "#위에서 만든 documents 집합에 대해 feature set을 생성\n",
    "featuresets = [(document_features(d, word_features), c) for (d,c) in documents]"
   ]
  },
  {
   "cell_type": "code",
   "execution_count": 16,
   "metadata": {},
   "outputs": [
    {
     "name": "stdout",
     "output_type": "stream",
     "text": [
      "2000\n",
      "neg\n",
      "{',': True, 'the': True, '.': True, 'a': True, 'and': True, 'of': True, 'to': True, \"'\": True, 'is': True, 'in': True, 's': True, '\"': False, 'it': True, 'that': True, '-': True, ')': True, '(': True, 'as': True, 'with': True, 'for': True, 'his': True, 'this': True, 'film': True, 'i': True, 'he': True, 'but': True, 'on': True, 'are': True, 't': True, 'by': True, 'be': True, 'one': True, 'movie': True, 'an': True, 'who': True, 'not': True, 'you': False, 'from': True, 'at': True, 'was': False, 'have': True, 'they': True, 'has': False, 'her': False, 'all': False, '?': True, 'there': True, 'like': True, 'so': False, 'out': False, 'about': True, 'up': False, 'more': True, 'what': True, 'when': False, 'which': True, 'or': True, 'she': False, 'their': True, ':': False, 'some': True, 'just': False, 'can': False, 'if': False, 'we': True, 'him': False, 'into': True, 'even': True, 'only': False, 'than': True, 'no': True, 'good': False, 'time': False, 'most': True, 'its': False, 'will': False, 'story': False, 'would': False, 'been': False, 'much': False, 'character': False, 'also': False, 'get': False, 'other': False, 'do': False, 'two': True, 'well': True, 'them': True, 'very': True, 'characters': True, ';': True, 'first': False, '--': False, 'after': True, 'see': True, '!': False, 'way': True, 'because': False, 'make': False, 'life': False, 'off': True, 'too': False, 'any': False, 'does': False, 'really': True, 'had': True, 'while': True, 'films': True, 'how': True, 'plot': False, 'little': False, 'where': True, 'people': False, 'over': True, 'could': False, 'then': False, 'me': False, 'scene': False, 'man': True, 'bad': False, 'my': False, 'never': False, 'being': True, 'best': False, 'these': False, 'don': False, 'new': False, 'doesn': True, 'scenes': True, 'many': False, 'director': True, 'such': True, 'know': False, 'were': False, 'movies': True, 'through': True, 'here': True, 'action': False, 'great': True, 're': True, 'another': False, 'love': True, 'go': True, 'made': False, 'us': False, 'big': True, 'end': False, 'something': True, 'back': False, '*': False, 'still': True, 'world': False, 'seems': False, 'work': True, 'those': False, 'makes': True, 'now': False, 'before': False, 'however': False, 'between': False, 'few': True, '/': False, 'down': True, 'every': False, 'though': True, 'better': False, 'real': True, 'audience': False, 'enough': False, 'seen': True, 'take': False, 'around': False, 'both': False, 'going': False, 'year': True, 'performance': False, 'why': False, 'should': True, 'role': False, 'isn': False, 'same': False, 'old': True, 'gets': True, 'your': False, 'may': True, 'things': False, 'think': False, 'years': False, 'last': True, 'comedy': True, 'funny': True, 'actually': False, 've': False, 'long': False, 'look': True, 'almost': True, 'own': False, 'thing': False, 'fact': False, 'nothing': False, 'say': True, 'right': True, 'john': False, 'although': True, 'played': False, 'find': True, 'script': True, 'come': True, 'ever': False, 'cast': False, 'since': True, 'did': False, 'star': False, 'plays': False, 'young': False, 'show': False, 'comes': False, 'm': True, 'part': False, 'original': False, 'actors': False, 'screen': True, 'without': False, 'again': False, 'acting': True, 'three': False, 'day': False, 'each': False, 'point': False, 'lot': True, 'least': True, 'takes': True, 'guy': True, 'quite': False, 'himself': False, 'away': False, 'during': False, 'family': False, 'effects': True, 'course': False, 'goes': False, 'minutes': False, 'interesting': True, 'might': False, 'far': True, 'high': False, 'rather': False, 'once': False, 'must': False, 'anything': False, 'place': False, 'set': False, 'yet': False, 'watch': False, 'd': False, 'making': False, 'our': False, 'wife': False, 'hard': False, 'always': False, 'fun': False, 'didn': True, 'll': False, 'seem': True, 'special': True, 'bit': False, 'times': False, 'trying': True, 'hollywood': False, 'instead': False, 'give': False, 'want': False, 'picture': True, 'kind': True, 'american': True, 'job': False, 'sense': True, 'woman': False, 'home': False, 'having': True, 'series': True, 'actor': False, 'probably': False, 'help': False, 'half': False, 'along': True, 'men': False, 'everything': False, 'pretty': True, 'becomes': False, 'sure': False, 'black': False, 'together': True, 'dialogue': False, 'money': False, 'become': False, 'gives': False, 'given': False, 'looking': False, 'whole': False, 'watching': False, 'father': False, '`': False, 'feel': False, 'everyone': False, 'music': False, 'wants': False, 'sex': False, 'less': False, 'done': False, 'horror': False, 'got': False, 'death': False, 'perhaps': False, 'city': False, 'next': False, 'especially': True, 'play': False, 'girl': False, 'mind': False, '10': False, 'moments': False, 'looks': False, 'completely': False, '2': False, 'reason': False, 'mother': False, 'whose': True, 'line': False, 'night': False, 'human': False, 'until': False, 'rest': False, 'performances': False, 'different': False, 'evil': False, 'small': False, 'james': False, 'simply': False, 'couple': False, 'put': False, 'let': False, 'anyone': False, 'ending': False, 'case': False, 'several': True, 'dead': False, 'michael': False, 'left': False, 'thought': False, 'school': False, 'shows': False, 'humor': True, 'true': False, 'lost': False, 'written': False, 'itself': True, 'friend': False, 'entire': False, 'getting': True, 'town': False, 'turns': True, 'soon': False, 'someone': False, 'second': False, 'main': False, 'stars': True, 'found': True, 'use': False, 'problem': False, 'friends': True, 'tv': True, 'top': False, 'name': False, 'begins': False, 'called': False, 'based': False, 'comic': True, 'david': True, 'head': False, 'else': False, 'idea': False, 'either': True, 'wrong': False, 'unfortunately': False, 'later': False, 'final': False, 'hand': False, 'alien': False, 'house': False, 'group': False, 'full': True, 'used': False, 'tries': False, 'often': False, 'against': False, 'war': False, 'sequence': False, 'keep': False, 'turn': False, 'playing': False, 'boy': True, 'behind': True, 'named': True, 'certainly': False, 'live': False, 'believe': False, 'under': False, 'works': False, 'relationship': False, 'face': False, 'hour': False, 'run': False, 'style': True, 'said': False, 'despite': False, 'person': False, 'finally': False, 'shot': False, 'book': False, 'doing': False, 'tell': False, 'maybe': False, 'nice': False, 'son': False, 'perfect': False, 'side': False, 'seeing': False, 'able': False, 'finds': False, 'children': False, 'days': True, 'past': False, 'summer': False, 'camera': False, 'won': False, 'including': True, 'mr': False, 'kids': False, 'lives': False, 'directed': False, 'moment': False, 'game': False, 'running': True, 'fight': False, 'supposed': False, 'video': False, 'car': False, 'matter': False, 'kevin': True, 'joe': False, 'lines': False, 'worth': False, '=': False, 'daughter': False, 'earth': False, 'starts': False, 'need': False, 'entertaining': True, 'white': False, 'start': False, 'writer': False, 'dark': False, 'short': False, 'self': False, 'worst': False, 'nearly': True, 'opening': False, 'try': False, 'upon': False, 'care': False, 'early': True, 'violence': False, 'throughout': False, 'team': False, 'production': True, 'example': True, 'beautiful': True, 'title': False, 'exactly': False, 'jack': False, 'review': False, 'major': False, 'drama': False, '&': False, 'problems': False, 'sequences': False, 'obvious': False, 'version': False, 'screenplay': False, 'known': False, 'killer': False, 'wasn': False, 'robert': False, 'disney': False, 'already': False, 'close': False, 'classic': False, 'others': False, 'hit': False, 'kill': False, 'deep': False, 'five': False, 'order': False, 'act': False, 'simple': False, 'fine': False, 'themselves': False, 'heart': True, 'roles': False, 'jackie': False, 'direction': False, 'eyes': False, 'four': False, 'question': False, 'sort': False, 'sometimes': False, 'knows': False, 'supporting': True, 'coming': False, 'voice': False, 'women': False, 'truly': False, 'save': False, 'jokes': True, 'computer': False, 'child': False, 'o': False, 'boring': False, 'tom': False, 'level': True, '1': False, 'body': False, 'guys': False, 'genre': False, 'brother': False, 'strong': False, 'stop': False, 'room': False, 'space': False, 'lee': False, 'ends': False, 'beginning': False, 'ship': False, 'york': False, 'attempt': True, 'thriller': False, 'scream': False, 'peter': False, 'aren': False, 'husband': False, 'fiction': False, 'happens': False, 'hero': False, 'novel': False, 'note': False, 'hope': False, 'king': False, 'yes': False, 'says': False, 'tells': True, 'quickly': False, 'romantic': True, 'dog': False, 'oscar': False, 'stupid': False, 'possible': False, 'saw': False, 'lead': False, 'career': False, 'murder': False, 'extremely': False, 'manages': False, 'god': False, 'mostly': False, 'wonder': False, 'particularly': False, 'future': False, 'fans': True, 'sound': True, 'worse': False, 'piece': True, 'involving': False, 'de': False, 'appears': False, 'planet': False, 'paul': False, 'involved': False, 'mean': False, 'none': True, 'taking': False, 'hours': False, 'laugh': False, 'police': False, 'sets': False, 'attention': False, 'co': False, 'hell': False, 'eventually': False, 'single': False, 'fall': False, 'falls': True, 'material': True, 'emotional': False, 'power': False, 'late': False, 'lack': False, 'dr': False, 'van': False, 'result': False, 'elements': False, 'meet': False, 'smith': False, 'science': False, 'experience': False, 'bring': False, 'wild': False, 'living': False, 'theater': False, 'interest': True, 'leads': True, 'word': False, 'feature': False, 'battle': False, 'girls': False, 'alone': False, 'obviously': True, 'george': False, 'within': False, 'usually': True, 'enjoy': False, 'guess': False, 'among': False, 'taken': False, 'feeling': False, 'laughs': True, 'aliens': False, 'talk': False, 'chance': False, 'talent': False, '3': False, 'middle': False, 'number': False, 'easy': False, 'across': True, 'needs': False, 'attempts': True, 'happen': False, 'television': False, 'chris': True, 'deal': True, 'poor': True, 'form': False, 'girlfriend': False, 'viewer': False, 'release': False, 'killed': False, 'forced': False, 'whether': False, 'wonderful': False, 'feels': False, 'oh': False, 'tale': True, 'serious': False, 'expect': False, 'except': False, 'light': False, 'success': True, 'features': False, 'premise': True, 'happy': False, 'words': False, 'leave': False, 'important': False, 'meets': False, 'history': False, 'giving': False, 'crew': False, 'type': False, 'call': False, 'turned': False, 'released': False, 'parents': False, 'art': False, 'impressive': False, 'mission': False, 'working': False, 'seemed': False, 'score': False, 'told': False, 'recent': False, 'robin': False, 'basically': False, 'entertainment': False, 'america': False, '$': False, 'surprise': False, 'apparently': False, 'easily': False, 'ryan': False, 'cool': False, 'stuff': False, 'cop': False, 'change': False, 'williams': False, 'crime': False, 'office': False, 'parts': False, 'somehow': False, 'sequel': False, 'william': False, 'cut': False, 'die': False, 'jones': False, 'credits': False, 'batman': False, 'suspense': False, 'brings': False, 'events': False, 'reality': False, 'whom': False, 'local': False, 'talking': False, 'difficult': False, 'using': False, 'went': False, 'writing': False, 'remember': False, 'near': False, 'straight': True, 'hilarious': False, 'ago': False, 'certain': False, 'ben': False, 'kid': False, 'wouldn': False, 'slow': False, 'blood': False, 'mystery': False, 'complete': False, 'red': False, 'popular': False, 'effective': False, 'am': False, 'fast': False, 'flick': False, 'due': False, 'runs': False, 'gone': False, 'return': False, 'presence': False, 'quality': False, 'dramatic': False, 'filmmakers': False, 'age': False, 'brothers': False, 'business': False, 'general': False, 'rock': False, 'sexual': False, 'present': False, 'surprisingly': False, 'anyway': False, 'uses': False, '4': False, 'personal': False, 'figure': False, 'smart': False, 'ways': False, 'decides': False, 'annoying': False, 'begin': True, 'couldn': False, 'somewhat': False, 'shots': False, 'rich': False, 'minute': False, 'law': False, 'previous': False, 'jim': False, 'successful': False, 'harry': False, 'water': True, 'similar': False, 'absolutely': False, 'motion': True, 'former': False, 'strange': False, 'came': False, 'follow': False, 'read': False, 'project': False, 'million': False, 'secret': False, 'starring': False, 'clear': False, 'familiar': False, 'romance': False, 'intelligent': False, 'third': False, 'excellent': False, 'amazing': False, 'party': False, 'budget': False, 'eye': False, 'actress': False, 'prison': False, 'latest': False, 'means': False, 'company': False, 'towards': False, 'predictable': False, 'powerful': False, 'nor': False, 'bob': False, 'beyond': False, 'visual': False, 'leaves': False, 'r': False, 'nature': False, 'following': False, 'villain': False, 'leaving': False, 'animated': False, 'low': False, 'myself': False, 'b': False, 'bill': False, 'sam': False, 'filled': False, 'wars': False, 'questions': False, 'cinema': False, 'message': False, 'box': False, 'moving': False, 'herself': False, 'country': False, 'usual': True, 'martin': False, 'definitely': False, 'add': False, 'large': False, 'clever': False, 'create': False, 'felt': False, 'stories': False, 'brilliant': True, 'ones': False, 'giant': False, 'situation': False, 'murphy': False, 'break': False, 'opens': False, 'scary': False, 'doubt': False, 'drug': False, 'bunch': False, 'thinking': False, 'solid': False, 'effect': False, 'learn': False, 'move': False, 'force': True, 'potential': False, 'seriously': False, 'follows': False, 'above': False, 'saying': False, 'huge': False, 'class': False, 'plan': False, 'agent': False, 'created': False, 'unlike': False, 'pay': False, 'non': False, 'married': False, 'mark': False, 'sweet': False, 'perfectly': False, 'ex': False, 'realize': False, 'audiences': False, 'took': False, 'decent': False, 'likely': False, 'dream': False, 'view': False, 'scott': False, 'subject': False, 'understand': False, 'happened': False, 'enjoyable': False, 'studio': False, 'immediately': False, 'open': False, 'e': False, 'points': False, 'heard': False, 'viewers': False, 'cameron': False, 'truman': False, 'bruce': False, 'frank': False, 'private': False, 'stay': True, 'fails': False, 'impossible': False, 'cold': False, 'richard': False, 'overall': False, 'merely': False, 'exciting': False, 'mess': False, 'chase': False, 'free': False, 'ten': False, 'neither': False, 'wanted': False, 'gun': False, 'appear': False, 'carter': False, 'escape': False, 'ultimately': False, '+': False, 'fan': True, 'inside': False, 'favorite': False, 'haven': False, 'modern': False, 'l': False, 'wedding': False, 'stone': False, 'trek': True, 'brought': False, 'trouble': False, 'otherwise': False, 'tim': False, '5': False, 'allen': False, 'bond': False, 'society': False, 'liked': False, 'dumb': True, 'musical': False, 'stand': False, 'political': False, 'various': False, 'talented': False, 'particular': False, 'west': False, 'state': False, 'keeps': False, 'english': False, 'silly': False, 'u': False, 'situations': False, 'park': False, 'teen': False, 'rating': False, 'slightly': False, 'steve': False, 'truth': False, 'air': False, 'element': False, 'joke': False, 'spend': False, 'key': False, 'biggest': False, 'members': False, 'effort': False, 'government': False, 'focus': False, 'eddie': False, 'soundtrack': False, 'hands': False, 'earlier': False, 'chan': False, 'purpose': False, 'today': False, 'showing': False, 'memorable': False, 'six': False, 'cannot': False, 'max': False, 'offers': False, 'rated': False, 'mars': False, 'heavy': False, 'totally': False, 'control': False, 'credit': False, 'fi': False, 'woody': False, 'ideas': False, 'sci': False, 'wait': False, 'sit': False, 'female': False, 'ask': False, 'waste': False, 'terrible': True, 'depth': False, 'simon': False, 'aspect': False, 'list': False, 'mary': False, 'sister': False, 'animation': False, 'entirely': False, 'fear': False, 'steven': False, 'moves': False, 'actual': False, 'army': False, 'british': False, 'constantly': False, 'fire': False, 'convincing': False, 'setting': False, 'gave': False, 'tension': False, 'street': False, '8': False, 'brief': False, 'ridiculous': False, 'cinematography': False, 'typical': False, 'nick': False, 'screenwriter': False, 'ability': False, 'spent': False, 'quick': False, 'violent': False, 'atmosphere': False, 'subtle': False, 'expected': False, 'fairly': False, 'seven': False, 'killing': False, 'tone': False, 'master': False, 'disaster': False, 'lots': False, 'thinks': False, 'song': False, 'cheap': False, 'suddenly': False, 'background': False, 'club': False, 'willis': False, 'whatever': False, 'highly': False, 'sees': False, 'complex': False, 'greatest': False, 'impact': False, 'beauty': False, 'front': False, 'humans': False, 'indeed': False, 'flat': False, 'grace': False, 'wrote': False, 'amusing': True, 'ii': False, 'mike': False, 'further': False, 'cute': False, 'dull': False, 'minor': False, 'recently': False, 'hate': False, 'outside': False, 'plenty': False, 'wish': False, 'godzilla': True, 'college': False, 'titanic': False, 'sounds': False, 'telling': False, 'sight': False, 'double': False, 'cinematic': True, 'queen': False, 'hold': False, 'meanwhile': False, 'awful': False, 'clearly': False, 'theme': False, 'hear': False, 'x': False, 'amount': False, 'baby': False, 'approach': True, 'dreams': False, 'shown': False, 'island': False, 'reasons': False, 'charm': False, 'miss': False, 'longer': False, 'common': False, 'sean': False, 'carry': False, 'believable': False, 'realistic': False, 'chemistry': False, 'possibly': False, 'casting': False, 'carrey': False, 'french': False, 'trailer': False, 'tough': False, 'produced': False, 'imagine': False, 'choice': False, 'ride': False, 'somewhere': False, 'hot': False, 'race': False, 'road': True, 'leader': False, 'thin': False, 'jerry': False, 'slowly': False, 'delivers': False, 'detective': False, 'brown': False, 'jackson': False, 'member': False, 'provide': False, 'president': False, 'puts': False, 'asks': False, 'critics': False, 'appearance': False, 'famous': False, 'okay': False, 'intelligence': False, 'energy': True, 'sent': False, 'spielberg': False, 'development': False, 'etc': False, 'language': False, 'blue': True, 'proves': False, 'vampire': False, 'seemingly': False, 'basic': False, 'caught': False, 'decide': False, 'opportunity': False, 'incredibly': False, 'images': False, 'band': False, 'j': False, 'writers': False, 'knew': False, 'interested': False, 'considering': False, 'boys': True, 'thanks': False, 'remains': False, 'climax': False, 'event': False, 'directing': False, 'conclusion': False, 'leading': False, 'ground': False, 'lies': False, 'forget': False, 'alive': False, 'tarzan': False, 'century': True, 'provides': False, 'trip': True, 'partner': False, 'central': False, 'tarantino': False, 'period': True, 'pace': False, 'yourself': False, 'worked': True, 'ready': False, 'date': False, 'thus': False, '1998': False, 'terrific': False, 'write': False, 'average': False, 'onto': False, 'songs': False, 'occasionally': False, 'doctor': False, 'stands': False, 'hardly': False, 'monster': False, 'led': False, 'mysterious': False, 'details': False, 'wasted': True, 'apart': False, 'aside': True, 'store': False, 'billy': False, 'boss': False, 'travolta': False, 'producer': False, 'pull': False, 'consider': False, 'pictures': False, 'becoming': False, 'cage': False, 'loud': False, 'looked': False, 'officer': False, 'twenty': False, 'system': False, 'contains': False, 'julia': False, 'subplot': False, 'missing': False, 'personality': False, 'building': False, 'learns': False, 'hong': False, 'la': False, 'apartment': False, '7': False, 'bizarre': True, 'powers': False, 'flaws': True, 'catch': False, 'lawyer': False, 'shoot': False, 'student': False, 'unique': False, '000': False, 'admit': False, 'concept': True, 'needed': False, 'thrown': True, 'christopher': True, 'laughing': False, 'green': False, 'twists': False, 'matthew': True, 'touch': False, 'waiting': True, 'victim': False, 'cover': False, 'machine': False, 'danny': False, 'mention': False, 'search': False, '1997': False, 'win': False, 'door': False, 'manner': False, 'train': False, 'saving': False, 'share': False, 'image': False, 'discovers': False, 'normal': False, 'cross': False, 'fox': False, 'returns': False, 'adult': False, 'adds': False, 'answer': False, 'adventure': False, 'lame': False, 'male': False, 'odd': False, 'singer': False, 'deserves': False, 'gore': False, 'states': False, 'include': False, 'equally': False, 'months': False, 'barely': False, 'directors': False, 'introduced': False, 'fashion': False, 'social': False, '1999': False, 'news': False, 'hair': True, 'dance': False, 'innocent': False, 'camp': False, 'teacher': False, 'became': False, 'sad': False, 'witch': False, 'includes': False, 'nights': False, 'jason': False, 'julie': False, 'latter': False, 'food': False, 'jennifer': False, 'land': False, 'menace': False, 'rate': False, 'storyline': False, 'contact': False, 'jean': False, 'elizabeth': False, 'fellow': False, 'changes': False, 'henry': False, 'hill': False, 'pulp': False, 'gay': False, 'tried': False, 'surprised': False, 'literally': False, 'walk': False, 'standard': False, '90': False, 'forward': False, 'wise': False, 'enjoyed': False, 'discover': False, 'pop': False, 'anderson': False, 'offer': False, 'recommend': False, 'public': False, 'drive': False, 'c': False, 'toy': False, 'charming': False, 'fair': False, 'chinese': False, 'rescue': False, 'terms': False, 'mouth': False, 'lucas': False, 'accident': False, 'dies': False, 'decided': False, 'edge': True, 'footage': False, 'culture': False, 'weak': True, 'presented': False, 'blade': False, 'younger': False, 'douglas': False, 'natural': False, 'born': False, 'generally': False, 'teenage': False, 'older': False, 'horrible': False, 'addition': False, 'sadly': False, 'creates': False, 'disturbing': False, 'roger': False, 'detail': False, 'devil': False, 'debut': False, 'track': False, 'developed': False, 'week': False, 'russell': False, 'attack': False, 'explain': False, 'rarely': False, 'fully': False, 'prove': True, 'exception': False, 'jeff': False, 'twist': False, 'gang': False, 'winning': False, 'jr': False, 'species': False, 'issues': False, 'fresh': False, 'rules': False, 'meaning': False, 'inspired': False, 'heroes': True, 'desperate': False, 'fighting': False, 'filmed': False, 'faces': False, 'alan': False, 'bright': False, 'ass': False, 'flying': False, 'kong': False, 'rush': True, 'forces': False, 'charles': False, 'numerous': False, 'emotions': False, 'involves': False, 'patrick': False, 'weird': False, 'apparent': False, 'information': False, 'revenge': False, 'jay': False, 'toward': False, 'surprising': False, 'twice': False, 'editing': False, 'calls': False, 'lose': False, 'vegas': False, 'stage': False, 'intended': False, 'gags': False, 'opinion': False, 'likes': False, 'crazy': False, 'owner': False, 'places': False, 'pair': False, 'genuine': False, 'epic': False, 'speak': True, 'throw': False, 'appeal': False, 'gibson': False, 'captain': False, 'military': False, '20': False, 'blair': False, 'nowhere': False, 'length': True, 'nicely': False, 'cause': False, 'pass': False, 'episode': False, 'kiss': False, 'arnold': False, 'please': False, 'hasn': False, 'phone': False, 'filmmaking': False, 'formula': False, 'boyfriend': False, 'talents': False, 'creating': False, 'kelly': False, 'buy': False, 'wide': False, 'fantasy': False, 'mood': False, 'heads': False, 'pathetic': False, 'lacks': True, 'loved': False, 'asked': False, 'mrs': False, 'witty': False, 'shakespeare': False, 'mulan': False, 'generation': False, 'affair': False, 'pieces': False, 'task': False, 'rare': False, 'kept': False, 'cameo': False, 'fascinating': False, 'ed': False, 'fbi': False, 'burton': False, 'incredible': False, 'accent': False, 'artist': False, 'superior': False, 'academy': False, 'thomas': False, 'spirit': False, 'technical': False, 'confusing': False, 'poorly': False, 'target': False, 'lover': False, 'woo': False, 'mentioned': False, 'theaters': False, 'plane': False, 'confused': False, 'dennis': False, 'rob': False, 'appropriate': False, 'christmas': False, 'considered': False, 'legend': False, 'shame': False, 'soul': False, 'matt': False, 'campbell': False, 'process': False, 'bottom': False, 'sitting': False, 'brain': False, 'creepy': False, '13': False, 'forever': False, 'dude': False, 'crap': False, 'superb': False, 'speech': False, 'ice': False, 'journey': False, 'masterpiece': False, 'intriguing': False, 'names': False, 'pick': False, 'speaking': False, 'virtually': False, 'award': False, 'worthy': False, 'marriage': False, 'deliver': False, 'cash': False, 'magic': False, 'respect': False, 'product': False, 'necessary': True, 'suppose': False, 'silent': False, 'pointless': False, 'station': False, 'affleck': False, 'dimensional': False, 'charlie': False, 'allows': False, 'avoid': False, 'meant': False, 'cops': False, 'attitude': False, 'relationships': False, 'hits': False, 'stephen': False, 'spends': False, 'relief': False, 'physical': False, 'count': False, 'reviews': False, 'appreciate': True, 'cliches': False, 'holds': False, 'pure': False, 'plans': False, 'limited': False, 'failed': True, 'pain': False, 'impression': True, 'unless': False, 'sub': False, '[': False, 'total': False, 'creature': False, 'viewing': False, 'loves': False, 'princess': False, 'kate': False, 'rising': False, 'woods': False, 'baldwin': False, 'angry': False, 'drawn': False, 'step': False, 'matrix': False, 'themes': False, 'satire': False, 'arts': False, ']': False, 'remake': False, 'wall': False, 'moral': False, 'color': False, 'ray': False, 'stuck': False, 'touching': False, 'wit': False, 'tony': False, 'hanks': False, 'continues': False, 'damn': False, 'nobody': False, 'cartoon': False, 'keeping': False, 'realized': False, 'criminal': False, 'unfunny': True, 'comedic': False, 'martial': False, 'disappointing': False, 'anti': False, 'graphic': False, 'stunning': False, 'actions': False, 'floor': False, 'emotion': False, 'soldiers': False, 'edward': False, 'comedies': False, 'driver': False, 'expectations': False, 'added': False, 'mad': False, 'angels': False, 'shallow': False, 'suspect': False, 'humorous': False, 'phantom': False, 'appealing': False, 'device': False, 'design': False, 'industry': False, 'reach': False, 'fat': False, 'blame': False, 'united': False, 'sign': False, 'portrayal': False, 'rocky': True, 'finale': False, 'grand': False, 'opposite': False, 'hotel': False, 'match': False, 'damme': False, 'speed': False, 'ok': False, 'loving': False, 'field': False, 'larry': False, 'urban': False, 'troopers': False, 'compared': False, 'apes': False, 'rose': False, 'falling': True, 'era': False, 'loses': False, 'adults': False, 'managed': False, 'dad': False, 'therefore': False, 'pg': False, 'results': False, 'guns': False, 'radio': False, 'lady': False, 'manage': False, 'spice': False, 'naked': False, 'started': False, 'intense': False, 'humanity': False, 'wonderfully': False, 'slasher': False, 'bland': False, 'imagination': False, 'walking': False, 'willing': False, 'horse': False, 'rent': False, 'mix': False, 'generated': False, 'g': False, 'utterly': False, 'scientist': False, 'washington': False, 'notice': False, 'players': True, 'teenagers': False, 'moore': False, 'board': False, 'price': False, 'frightening': False, 'tommy': True, 'spectacular': False, 'bored': False, 'jane': False, 'join': False, 'producers': False, 'johnny': False, 'zero': False, 'vampires': False, 'adaptation': False, 'dollars': False, 'parody': False, 'documentary': False, 'dvd': False, 'wayne': False, 'post': False, 'exist': False, 'matters': False, 'chosen': False, 'mel': False, 'attractive': False, 'plain': False, 'trust': False, 'safe': False, 'reading': False, 'hoping': False, 'protagonist': False, 'feelings': False, 'fate': False, 'finding': False, 'feet': False, 'visuals': False, 'spawn': False, 'compelling': False, 'hall': False, 'sympathetic': False, 'featuring': False, 'difference': False, 'professional': False, 'drugs': False, 'ford': False, 'shooting': True, 'gold': False, 'patch': False, 'build': False, 'boat': False, 'cruise': False, 'honest': False, 'media': False, 'flicks': False, 'bug': False, 'bringing': False, 'dangerous': False, 'watched': False, 'grant': False, 'smile': False, 'plus': False, 'shouldn': False, 'decision': False, 'visually': False, 'allow': False, 'starship': False, 'roberts': False, 'dying': False, 'portrayed': False, 'turning': False, 'believes': False, 'changed': False, 'shock': False, 'destroy': False, '30': False, 'crowd': False, 'broken': False, 'tired': False, 'fail': False, 'south': False, 'died': False, 'cult': False, 'fake': False, 'vincent': False, 'identity': False, 'sexy': False, 'hunt': True, 'jedi': False, 'flynt': False, 'alex': False, 'engaging': False, 'serve': False, 'snake': False, 'yeah': False, 'expecting': False, '100': False, 'decade': False, 'ups': False, 'constant': False, 'current': False, 'survive': False, 'jimmy': False, 'buddy': False, 'send': False, 'brooks': False, 'goofy': False, 'likable': False, 'humour': False, 'technology': False, 'files': False, 'babe': False, 'aspects': False, 'presents': False, 'kills': False, 'supposedly': False, 'eight': False, 'sandler': False, 'hospital': False, 'test': False, 'hidden': False, 'brian': False, 'books': False, 'promise': False, 'determined': False, 'professor': False, 'welcome': False, 'pleasure': False, 'succeeds': False, 'individual': False, 'annie': False, 'mob': False, 'ted': False, 'virus': False, 'content': False, 'gary': False, 'direct': False, 'contrived': False, 'carpenter': False, 'scale': False, 'sick': False, 'nasty': False, 'conflict': False, 'haunting': False, 'ghost': False, 'filmmaker': False, 'japanese': False, 'helps': False, 'fare': False, 'lucky': False, 'ultimate': False, 'window': False, 'support': False, 'goal': False, 'provided': False, 'genius': False, 'winner': False, 'taylor': False, 'fantastic': False, 'faith': False, 'lynch': False, 'fit': False, 'catherine': False, 'ms': False, 'paced': False, 'breaks': False, 'al': False, 'frame': False, 'travel': False, 'badly': True, 'available': False, 'cares': False, 'reeves': False, 'crash': False, 'driving': False, 'press': False, 'seagal': False, 'amy': False, '9': False, 'headed': False, 'instance': False, 'excuse': False, 'offensive': False, 'narrative': False, 'fault': False, 'bus': False, 'f': False, 'extreme': False, 'miller': False, 'guilty': False, 'grows': False, 'overly': False, 'liners': False, 'forgotten': False, 'ahead': False, 'accept': False, 'porn': False, 'directly': False, 'helen': False, 'began': False, 'lord': False, 'folks': False, 'mediocre': False, 'bar': False, 'surface': False, 'super': False, 'failure': False, '6': False, 'acted': False, 'quiet': False, 'laughable': False, 'sheer': False, 'security': False, 'emotionally': False, 'season': False, 'stuart': False, 'jail': False, 'deals': False, 'cheesy': False, 'court': False, 'beach': False, 'austin': False, 'model': False, 'outstanding': False, 'substance': False, 'nudity': False, 'slapstick': False, 'joan': False, 'reveal': False, 'placed': False, 'check': False, 'beast': False, 'hurt': False, 'bloody': False, 'acts': False, 'fame': False, 'meeting': False, 'nuclear': False, '1996': False, 'strength': False, 'center': False, 'funniest': False, 'standing': False, 'damon': False, 'clich': False, 'position': False, 'desire': False, 'driven': False, 'seat': False, 'stock': False, 'wondering': False, 'realizes': False, 'dealing': False, 'taste': False, 'routine': False, 'comparison': False, 'cinematographer': False, 'seconds': False, 'singing': False, 'gangster': False, 'responsible': False, 'football': False, 'remarkable': False, 'hunting': False, 'adams': False, 'fly': False, 'suspects': False, 'treat': False, 'hopes': False, 'heaven': False, 'myers': False, 'struggle': False, 'costumes': True, 'beat': False, 'happening': False, 'skills': False, 'ugly': True, 'figures': False, 'thoroughly': False, 'ill': False, 'surprises': False, 'player': False, 'rival': False, 'guard': False, 'anthony': False, 'strike': False, 'community': False, 'streets': False, 'hopkins': False, 'ended': False, 'originally': False, 'sarah': False, 'creative': False, 'characterization': False, 'thankfully': False, 'growing': False, 'sharp': False, 'williamson': False, 'eccentric': False, 'explained': False, 'hey': False, 'claire': False, 'steal': False, 'inevitable': False, 'joel': False, 'core': False, 'weren': False, 'sorry': False, 'built': False, 'anne': False, 'breaking': False, 'villains': False, 'critic': False, 'lets': False, 'visit': False, 'followed': False}\n"
     ]
    }
   ],
   "source": [
    "print(len(featuresets[0][0])) #첫째 feature set의 첫째 element 즉 bag_of_words feature의 수 - 상위 2000개 단어\n",
    "print(featuresets[0][1]) #첫째 feature set의 둘째 element 즉 label\n",
    "print(featuresets[0][0]) # 첫째 feature set의 내용\n"
   ]
  },
  {
   "cell_type": "markdown",
   "metadata": {},
   "source": [
    "### BOW feature set을 이용한 분류 맛보기\n",
    "\n",
    "https://www.nltk.org/book/ch06.html Section 1.3\n",
    "\n",
    "![alt text](https://www.nltk.org/images/supervised-classification.png \"classifier\")\n",
    "\n",
    "NLTK Naive Bayes 분류기를 사용\n",
    "http://www.nltk.org/howto/classify.html <br>\n",
    "주어진 문서의 label이 'neg'인지, 'pos'인지를 판단하는 분류기를 학습 <br>\n",
    "상세한 내용은 **Text Classification**에서!"
   ]
  },
  {
   "cell_type": "code",
   "execution_count": 17,
   "metadata": {},
   "outputs": [
    {
     "name": "stdout",
     "output_type": "stream",
     "text": [
      "0.74\n",
      "Most Informative Features\n",
      "             outstanding = True              pos : neg    =     11.3 : 1.0\n",
      "                   mulan = True              pos : neg    =      8.4 : 1.0\n",
      "                  seagal = True              neg : pos    =      7.7 : 1.0\n",
      "             wonderfully = True              pos : neg    =      6.9 : 1.0\n",
      "                   damon = True              pos : neg    =      5.7 : 1.0\n"
     ]
    }
   ],
   "source": [
    "train_set, test_set = featuresets[100:], featuresets[:100] #train set과 test set으로 분리\n",
    "\n",
    "classifier = nltk.NaiveBayesClassifier.train(train_set) # train set으로 학습\n",
    "print(nltk.classify.accuracy(classifier, test_set)) # test set으로 분류기 성능을 평가\n",
    "classifier.show_most_informative_features(5) #분류기에서 가장 중요한 영향을 미치는 단어 상위 5개"
   ]
  },
  {
   "cell_type": "code",
   "execution_count": 18,
   "metadata": {},
   "outputs": [
    {
     "name": "stdout",
     "output_type": "stream",
     "text": [
      "neg\n",
      "pos\n",
      "neg\n",
      "pos\n"
     ]
    }
   ],
   "source": [
    "testfeat = bag_of_words(['the', 'actor', 'was', 'seagal']) \n",
    "print(classifier.classify(testfeat))\n",
    "testfeat = bag_of_words(['the', 'story', 'was', 'outstanding'])\n",
    "print(classifier.classify(testfeat))\n",
    "negfeat = bag_of_words(['the', 'plot', 'was', 'ludicrous']) # 터무니없는\n",
    "print(classifier.classify(negfeat))\n",
    "posfeat = bag_of_words(['kate', 'winslet', 'is', 'accessible']) # 이해가 돼!\n",
    "print(classifier.classify(posfeat))"
   ]
  },
  {
   "cell_type": "markdown",
   "metadata": {},
   "source": [
    "## Count Vector with Scikit\n",
    "http://scikit-learn.org/stable/modules/feature_extraction.html#text-feature-extraction"
   ]
  },
  {
   "cell_type": "code",
   "execution_count": 19,
   "metadata": {},
   "outputs": [],
   "source": [
    "# data 준비, 입력이 raw text임\n",
    "reviews = [movie_reviews.raw(fileid) for fileid in movie_reviews.fileids()]"
   ]
  },
  {
   "cell_type": "code",
   "execution_count": 20,
   "metadata": {},
   "outputs": [
    {
     "name": "stdout",
     "output_type": "stream",
     "text": [
      "CountVectorizer(analyzer='word', binary=False, decode_error='strict',\n",
      "        dtype=<class 'numpy.int64'>, encoding='utf-8', input='content',\n",
      "        lowercase=True, max_df=1.0, max_features=None, min_df=1,\n",
      "        ngram_range=(1, 1), preprocessor=None, stop_words=None,\n",
      "        strip_accents=None, token_pattern='(?u)\\\\b\\\\w\\\\w+\\\\b',\n",
      "        tokenizer=None,\n",
      "        vocabulary=[',', 'the', '.', 'a', 'and', 'of', 'to', \"'\", 'is', 'in', 's', '\"', 'it', 'that', '-', ')', '(', 'as', 'with', 'for', 'his', 'this', 'film', 'i', 'he', 'but', 'on', 'are', 't', 'by', 'be', 'one', 'movie', 'an', 'who', 'not', 'you', 'from', 'at', 'was', 'have', 'they', 'has', 'her', 'all'...', 'weren', 'sorry', 'built', 'anne', 'breaking', 'villains', 'critic', 'lets', 'visit', 'followed'])\n"
     ]
    }
   ],
   "source": [
    "from sklearn.feature_extraction.text import CountVectorizer\n",
    "#cv = CountVectorizer()\n",
    "cv = CountVectorizer(vocabulary=word_features) #빈도수 상위 2,000개의 단어만 사용하여 count vector 객체를 생성\n",
    "print(cv) #객체 parameter들을 확인"
   ]
  },
  {
   "cell_type": "code",
   "execution_count": 21,
   "metadata": {},
   "outputs": [
    {
     "name": "stdout",
     "output_type": "stream",
     "text": [
      "reviews count: 2000\n"
     ]
    }
   ],
   "source": [
    "print('reviews count:', len(reviews))"
   ]
  },
  {
   "cell_type": "code",
   "execution_count": 22,
   "metadata": {},
   "outputs": [
    {
     "name": "stdout",
     "output_type": "stream",
     "text": [
      "[',', 'the', '.', 'a', 'and', 'of', 'to', \"'\", 'is', 'in', 's', '\"', 'it', 'that', '-', ')', '(', 'as', 'with', 'for', 'his', 'this', 'film', 'i', 'he', 'but', 'on', 'are', 't', 'by', 'be', 'one', 'movie', 'an', 'who', 'not', 'you', 'from', 'at', 'was', 'have', 'they', 'has', 'her', 'all', '?', 'there', 'like', 'so', 'out', 'about', 'up', 'more', 'what', 'when', 'which', 'or', 'she', 'their', ':', 'some', 'just', 'can', 'if', 'we', 'him', 'into', 'even', 'only', 'than', 'no', 'good', 'time', 'most', 'its', 'will', 'story', 'would', 'been', 'much', 'character', 'also', 'get', 'other', 'do', 'two', 'well', 'them', 'very', 'characters', ';', 'first', '--', 'after', 'see', '!', 'way', 'because', 'make', 'life']\n"
     ]
    }
   ],
   "source": [
    "X = cv.fit_transform(reviews) #review를 이용하여 count vector를 학습하고, 변환\n",
    "print(cv.get_feature_names()[:100]) # count vector에 사용된 feature 이름을 반환"
   ]
  },
  {
   "cell_type": "code",
   "execution_count": 23,
   "metadata": {},
   "outputs": [
    {
     "name": "stdout",
     "output_type": "stream",
     "text": [
      "[ 0 38  0  0 20 16 16  0 12  8  0  0 25 13  0  0  0  1  5  4  1 10  6  0\n",
      "  1 10  4 13  0  2  1  3  6  3  3  3  3  4  0  0  2  5  3  4  6  0 10  3\n",
      "  3  3  2  2  2  4  1  4  2  0  0  0  0  4  0  0  4  1  5  3  1  0  1  2\n",
      "  0  4  4  0  0  1  2  0  2  1  3  0  2  2  1  0  2  1  0  0  0  2  2  0\n",
      "  3  2  5  1]\n",
      "38\n"
     ]
    }
   ],
   "source": [
    "print(X[0].toarray()[0, :100]) #변환된 결과의 첫째 feature set 중에서 앞 100개를 출력\n",
    "print(max(X[0].toarray()[0])) #변환된 결과의 첫째 feature set 중에서 max 값"
   ]
  },
  {
   "cell_type": "code",
   "execution_count": 41,
   "metadata": {},
   "outputs": [
    {
     "name": "stdout",
     "output_type": "stream",
     "text": [
      ", : 0\n",
      "the : 38\n",
      ". : 0\n",
      "a : 0\n",
      "and : 20\n",
      "of : 16\n",
      "to : 16\n",
      "' : 0\n",
      "is : 12\n",
      "in : 8\n",
      "s : 0\n",
      "\" : 0\n",
      "it : 25\n",
      "that : 13\n",
      "- : 0\n",
      ") : 0\n",
      "( : 0\n",
      "as : 1\n",
      "with : 5\n",
      "for : 4\n"
     ]
    }
   ],
   "source": [
    "for word, count in zip(cv.get_feature_names()[:20], X[0].toarray()[0, :20]):\n",
    "    print(word, ':', count)"
   ]
  },
  {
   "cell_type": "markdown",
   "metadata": {},
   "source": [
    "## 문서 간 유사도 계산 및 가장 유사한 문서 검색\n",
    "### Cosine similarity\n",
    "\n",
    "![alt text](https://hsto.org/files/f73/289/979/f732899792f246358649e89765cd88da.png \"cos\")\n",
    "\n",
    "코사인 유사도는 두 벡터 간의 코사인 각도를 이용하여 구할 수 있는 두 벡터의 유사도를 의미합니다. 두 벡터의 방향이 완전히 동일한 경우에는 1의 값을 가지며, 90°의 각을 이루면 0, 180°로 반대의 방향을 가지면 -1의 값을 갖게 됩니다. 즉, 결국 코사인 유사도는 -1 이상 1 이하의 값을 가지며 값이 1에 가까울수록 유사도가 높다고 판단할 수 있습니다. 이를 직관적으로 이해하면 두 벡터가 가리키는 방향이 얼마나 유사한가를 의미합니다."
   ]
  },
  {
   "cell_type": "code",
   "execution_count": 25,
   "metadata": {},
   "outputs": [
    {
     "data": {
      "image/png": "[encoded data removed]",
      "text/plain": [
       "<matplotlib.figure.Figure at 0x2c31dac77f0>"
      ]
     },
     "metadata": {},
     "output_type": "display_data"
    }
   ],
   "source": [
    "%matplotlib inline\n",
    "import matplotlib.pyplot as plt\n",
    "import numpy as np\n",
    "x = np.arange(0,2*np.pi,0.1)   # start,stop,step\n",
    "y = np.cos(x)\n",
    "#print(x)\n",
    "plt.plot(x, y)\n",
    "plt.show()"
   ]
  },
  {
   "cell_type": "code",
   "execution_count": 26,
   "metadata": {},
   "outputs": [],
   "source": [
    "from sklearn.metrics.pairwise import cosine_similarity\n",
    "\n",
    "new_review = \"first of all it's a plot heavy mess that has bad voice talents , badly written script and fantastic animation. they are small pokemon with a powerful punch and have great psychic abilities\"\n",
    "new_vec = cv.transform([new_review]) #문서를 count vector로 변환\n",
    "\n",
    "sim_result = cosine_similarity(new_vec, X) #변환된 count vector와 기존 값들과의 similarity 계산"
   ]
  },
  {
   "cell_type": "code",
   "execution_count": 27,
   "metadata": {},
   "outputs": [
    {
     "name": "stdout",
     "output_type": "stream",
     "text": [
      "[0.47404152357849716, 0.4354705693078365, 0.4179484687443539, 0.40669013197195214, 0.4042441311205991, 0.4031257527594671, 0.39316730570210306, 0.38744458895341755, 0.3852303002224743, 0.384468719848977]\n"
     ]
    }
   ],
   "source": [
    "# https://docs.python.org/3/howto/sorting.html\n",
    "print(sorted(sim_result[0], reverse=True)[:10])"
   ]
  },
  {
   "cell_type": "code",
   "execution_count": 28,
   "metadata": {},
   "outputs": [
    {
     "data": {
      "text/plain": [
       "679"
      ]
     },
     "execution_count": 28,
     "metadata": {},
     "output_type": "execute_result"
    }
   ],
   "source": [
    "import numpy as np\n",
    "np.argmax(sim_result[0])"
   ]
  },
  {
   "cell_type": "code",
   "execution_count": 29,
   "metadata": {},
   "outputs": [
    {
     "name": "stdout",
     "output_type": "stream",
     "text": [
      " \" pokemon 3 : the movie \" has a lot of bad things in it . \n",
      "first of all it's a plot heavy mess that has bad voice talents , badly written script and fantastic animation . \n",
      "the first film came out the end of 1999 and was a huge hit grossing almost $90 million domestically . \n",
      "a sequel soon followed and even made $45 million . \n",
      "warner has released their third movie based on the immensely popular video game and tv series and its a waste of time and celluloid . \n",
      "this time ash ketchum and his friends are on their way to the johto battles ( which my little brother told me the new spinoff is \" pokemon : the johto journeys \" so go figure ) anyway he comes in contact with a young girl who's father has disappeared after trying to discover the unown . \n",
      "they are small pokemon with a powerful punch and have great psychic abilities . \n",
      "the unown bring together their psychic abilities and create entei a powerful legendary pokemon who barriers young molly's house and creates every wish she wants . \n",
      "now it's up to ash and his friends to stop this pokemon entei and show him to be a good pokemon rather than a bad one . \n",
      "too bad really that this is a bad movie , surprisingly the first movie was entertaining and somewhat absorbing , the second was a piece of trash and this one is almost in between . \n",
      "it has some good qualities ( animation , message in the end ) but the flaws seem to overpower the goods . \n",
      "i'm still not sure what the big thing is about pokemon , they are ugly little animals who speak their own name for their language ( besides meowth , my personal favorite ) and you don't understand what they are saying . \n",
      "my little brother just thought the movie was amazing , and i kept leaning over and asking him happened , or what pokemon that was . \n",
      "his response was a big lecture of how this is that , and that is this . . . he \n",
      "sure did put me in my place . \n",
      "with the second and third movie being bad , i have a feeling pokemon 4 : the movie might be a total bust as well . \n",
      " \" pokemon 3 : the movie \" has some redeeming qualities for the kids , and the pokemon fans will dig every minute of this film . \n",
      "for those parents and/or brothers and sisters who have to sit through this . . . bring a pillow . \n",
      "\n"
     ]
    }
   ],
   "source": [
    "print(reviews[679])"
   ]
  },
  {
   "cell_type": "code",
   "execution_count": 30,
   "metadata": {},
   "outputs": [
    {
     "data": {
      "text/plain": [
       "array([ 679,  176, 1152, 1575,  952,  470,  688, 1144,  103,  159],\n",
       "      dtype=int64)"
      ]
     },
     "execution_count": 30,
     "metadata": {},
     "output_type": "execute_result"
    }
   ],
   "source": [
    "(-sim_result[0]).argsort()[:10]"
   ]
  },
  {
   "cell_type": "markdown",
   "metadata": {},
   "source": [
    "## TFIDF with Scikit\n",
    "\n",
    "기존에 만든 count vector로부터 TFIDF vector로 변환<br>\n",
    "Count vector를 거치지 않고 처음부터 TFIDF vector를 생성하는 것도 가능함 -> 나중에"
   ]
  },
  {
   "cell_type": "code",
   "execution_count": 31,
   "metadata": {},
   "outputs": [
    {
     "data": {
      "text/plain": [
       "TfidfTransformer(norm='l2', smooth_idf=True, sublinear_tf=False, use_idf=True)"
      ]
     },
     "execution_count": 31,
     "metadata": {},
     "output_type": "execute_result"
    }
   ],
   "source": [
    "from sklearn.feature_extraction.text import TfidfTransformer\n",
    "transformer = TfidfTransformer(smooth_idf=True)\n",
    "transformer"
   ]
  },
  {
   "cell_type": "code",
   "execution_count": 32,
   "metadata": {},
   "outputs": [
    {
     "name": "stdout",
     "output_type": "stream",
     "text": [
      "(2000, 2000)\n",
      "max count score of the first vector: 38\n",
      "max tfidf score of the first vector: 0.3958279594831942\n"
     ]
    }
   ],
   "source": [
    "X_tfidf = transformer.fit_transform(X)\n",
    "print(X_tfidf.shape)\n",
    "print('max count score of the first vector:', max(X[0].toarray()[0]))\n",
    "print('max tfidf score of the first vector:', max(X_tfidf[0].toarray()[0]))"
   ]
  },
  {
   "cell_type": "code",
   "execution_count": 33,
   "metadata": {},
   "outputs": [
    {
     "data": {
      "text/plain": [
       "679"
      ]
     },
     "execution_count": 33,
     "metadata": {},
     "output_type": "execute_result"
    }
   ],
   "source": [
    "new_tfidf = transformer.transform(new_vec)\n",
    "sim_result_tf = cosine_similarity(new_tfidf, X_tfidf)\n",
    "np.argmax(sim_result_tf[0])"
   ]
  },
  {
   "cell_type": "code",
   "execution_count": 34,
   "metadata": {},
   "outputs": [
    {
     "name": "stdout",
     "output_type": "stream",
     "text": [
      "[0.39386919931415737, 0.2158533727955655, 0.2055888622850777, 0.18940610744482467, 0.18862790397285573, 0.18841943811025338, 0.18329868368380425, 0.1810784645715442, 0.17853711709135542, 0.17620991687411133]\n"
     ]
    }
   ],
   "source": [
    "print(sorted(sim_result_tf[0], reverse=True)[:10])"
   ]
  },
  {
   "cell_type": "code",
   "execution_count": 35,
   "metadata": {},
   "outputs": [
    {
     "name": "stdout",
     "output_type": "stream",
     "text": [
      "Count vector: [ 679  176 1152 1575  952  470  688 1144  103  159]\n",
      "TFIDF vector: [ 679  577 1209 1933  672 1280    3  913 1596 1163]\n"
     ]
    }
   ],
   "source": [
    "#count vector에 대한 유사도 상위 문서와 tfidf에 대한 유사도 상위 문서를 비교\n",
    "print('Count vector:', (-sim_result[0]).argsort()[:10])\n",
    "print('TFIDF vector:', (-sim_result_tf[0]).argsort()[:10])"
   ]
  },
  {
   "cell_type": "markdown",
   "metadata": {},
   "source": [
    "### Jaccard Similarity\n",
    "https://en.wikipedia.org/wiki/Jaccard_index\n",
    "\n",
    "![](https://wikimedia.org/api/rest_v1/media/math/render/svg/eaef5aa86949f49e7dc6b9c8c3dd8b233332c9e7)\n",
    "\n",
    "자카드 유사도는 두 문장을 각각 단어의 집합으로 만든 뒤 두 집합을 통해 유사도를 측정하는 방식 중 하나로 측정하는 방법은 두 집합의 교집합을 두 집합의 합집합으로 나눠줍니다."
   ]
  },
  {
   "cell_type": "code",
   "execution_count": 36,
   "metadata": {},
   "outputs": [
    {
     "name": "stdout",
     "output_type": "stream",
     "text": [
      "0.9245\n",
      "0.9645\n",
      "0.9135\n",
      "0.854\n",
      "0.9365\n",
      "0.809\n",
      "0.809\n",
      "0.9165\n",
      "0.883\n",
      "0.89\n"
     ]
    }
   ],
   "source": [
    "from sklearn.metrics import jaccard_similarity_score\n",
    "tfidf_list = [679, 1280,  577, 1933, 1209, 1115, 1274, 913, 1456, 1796]\n",
    "for i in tfidf_list:\n",
    "    print(jaccard_similarity_score(new_vec.toarray()[0], X[i].toarray()[0]))"
   ]
  },
  {
   "cell_type": "code",
   "execution_count": 37,
   "metadata": {},
   "outputs": [
    {
     "name": "stdout",
     "output_type": "stream",
     "text": [
      "[[0 0 0 ... 0 0 0]]\n"
     ]
    }
   ],
   "source": [
    "print(new_vec.toarray())"
   ]
  },
  {
   "cell_type": "markdown",
   "metadata": {},
   "source": [
    "### Dimension을 줄이는 방법: SVD\n",
    "lasso가 feature selection이라면, SVD는 feature extraction\n",
    "\n",
    "**Feature selection** (https://en.wikipedia.org/wiki/Feature_selection) \n",
    "\n",
    "In machine learning and statistics, feature selection, also known as variable selection, attribute selection or variable subset selection, is the process of selecting a subset of relevant features (variables, predictors) for use in model construction. Feature selection techniques are used for four reasons:\n",
    "\n",
    "* simplification of models to make them easier to interpret by researchers/users,\n",
    "* shorter training times,\n",
    "* to avoid the curse of dimensionality,\n",
    "* enhanced generalization by reducing overfitting (formally, reduction of variance)\n",
    "\n",
    "Text mining에서는 단어의 수를 다양한 방법으로 줄일 수 있음\n",
    "\n",
    "* 전처리 과정에서 의미 없는 단어 삭제\n",
    "* stopwords 삭제\n",
    "* 빈도가 낮은 단어 삭제\n",
    "* 빈도가 높은 단어 삭제\n",
    "* 결과에 영향을 미치지 않는 단어 삭제\n",
    "\n",
    "**Feature extraction**: (https://en.wikipedia.org/wiki/Feature_extraction)\n",
    "\n",
    "In machine learning, pattern recognition and in image processing, feature extraction starts from an initial set of measured data and builds derived values (features) intended to be informative and non-redundant, facilitating the subsequent learning and generalization steps, and in some cases leading to better human interpretations. Feature extraction is related to dimensionality reduction.\n",
    "\n",
    "* PCA(Principal component analysis)\n",
    "* LSA(Latent semantic analysis)\n",
    "* SVD(Singular-value decomposition)"
   ]
  },
  {
   "cell_type": "code",
   "execution_count": 38,
   "metadata": {},
   "outputs": [
    {
     "name": "stdout",
     "output_type": "stream",
     "text": [
      "[0.01514489 0.0166241  0.01317354 0.01030468 0.00756888 0.00725983\n",
      " 0.00659312 0.00580567 0.00550706 0.00504246 0.00483872 0.00470389\n",
      " 0.00453713 0.0043536  0.00431135 0.00415999 0.004104   0.00402205\n",
      " 0.00382987 0.00380754 0.0036883  0.00367408 0.00363124 0.00352173\n",
      " 0.00347459 0.00339472 0.00335051 0.00325916 0.00323815 0.00315384\n",
      " 0.00314674 0.00304913 0.00300347 0.00299865 0.00295145 0.00292693\n",
      " 0.00289485 0.00287923 0.00282802 0.00280223 0.00277773 0.00274264\n",
      " 0.00271311 0.00268979 0.00265569 0.00264501 0.00259901 0.00257714\n",
      " 0.0025622  0.00254445 0.00249797 0.00245484 0.00243712 0.00241656\n",
      " 0.00238654 0.00235366 0.00234395 0.00233282 0.00229758 0.002295\n",
      " 0.00227465 0.00226673 0.00224546 0.00223066 0.00221365 0.00220156\n",
      " 0.00219036 0.00218628 0.00216656 0.00216035 0.00215562 0.00211927\n",
      " 0.00211044 0.00207907 0.00207117 0.00205964 0.00205848 0.00203116\n",
      " 0.00202441 0.00199946 0.00199753 0.00199207 0.00197294 0.0019617\n",
      " 0.0019585  0.00193714 0.00191767 0.00191458 0.00189811 0.00186771\n",
      " 0.00185353 0.00184663 0.00183936 0.00182079 0.00180437 0.00178908\n",
      " 0.00177404 0.00176876 0.00174958 0.00173811]\n",
      "0.3301294081280181\n",
      "[29.54936635  4.36420045  3.88223926  3.4336061   2.9432501   2.88264756\n",
      "  2.74664301  2.57756775  2.51054801  2.40189889  2.35317037  2.3198506\n",
      "  2.27889108  2.23179972  2.22167603  2.1816127   2.16713559  2.14527806\n",
      "  2.0932693   2.0872057   2.05431727  2.05033882  2.03837721  2.0072858\n",
      "  1.99390129  1.97095962  1.95792141  1.93100751  1.92478453  1.89965894\n",
      "  1.89741067  1.86775163  1.85373119  1.85222777  1.83759385  1.82997386\n",
      "  1.81990837  1.81497947  1.79875771  1.79060839  1.78279738  1.77145545\n",
      "  1.76188644  1.75434521  1.74313166  1.73962107  1.72447955  1.71713989\n",
      "  1.71222068  1.70619451  1.69053883  1.67588603  1.66985071  1.66281531\n",
      "  1.65241505  1.641018    1.6376141   1.633811    1.62131504  1.62043129\n",
      "  1.61322709  1.61039551  1.60282223  1.59752576  1.59172378  1.58707378\n",
      "  1.58303285  1.58159752  1.57460225  1.57221768  1.57049958  1.55739933\n",
      "  1.55388822  1.54230728  1.5394555   1.53506889  1.5346513   1.52441458\n",
      "  1.52188451  1.51253005  1.51175704  1.50967713  1.50242339  1.49812574\n",
      "  1.49690923  1.48872122  1.48122565  1.48002615  1.47364228  1.46183106\n",
      "  1.45625308  1.45355162  1.45067424  1.44333001  1.43679407  1.43069132\n",
      "  1.42471488  1.42255847  1.41482775  1.41022141]\n"
     ]
    }
   ],
   "source": [
    "from sklearn.decomposition import TruncatedSVD\n",
    "svd = TruncatedSVD(n_components=100, n_iter=7, random_state=42) #압축할 component의 수 지정\n",
    "svd.fit(X_tfidf)  \n",
    "print(svd.explained_variance_ratio_)  #계산된 각 component가 설명하는 분산의 비율\n",
    "print(svd.explained_variance_ratio_.sum())  #선택된 component들이 설명하는 분산의 합 -> 선택한 component의 수에 따라 달라짐\n",
    "print(svd.singular_values_)  \n",
    "newX = svd.transform(X_tfidf) #선택된 component를 이용하여 2,000개의 feature로부터 feature extract (dimension reduce)"
   ]
  },
  {
   "cell_type": "code",
   "execution_count": 39,
   "metadata": {},
   "outputs": [
    {
     "name": "stdout",
     "output_type": "stream",
     "text": [
      "(100, 2000)\n",
      "(2000, 100)\n"
     ]
    }
   ],
   "source": [
    "print(svd.components_.shape)\n",
    "print(newX.shape)"
   ]
  },
  {
   "cell_type": "code",
   "execution_count": 40,
   "metadata": {},
   "outputs": [
    {
     "data": {
      "text/plain": [
       "array([-1.63688971e-28,  6.30071943e-01,  4.56700324e-31, ...,\n",
       "        2.65980872e-03,  2.57052959e-03,  2.46302852e-03])"
      ]
     },
     "execution_count": 40,
     "metadata": {},
     "output_type": "execute_result"
    }
   ],
   "source": [
    "svd.components_[0]"
   ]
  }
 ],
 "metadata": {
  "kernelspec": {
   "display_name": "Python 3",
   "language": "python",
   "name": "python3"
  },
  "language_info": {
   "codemirror_mode": {
    "name": "ipython",
    "version": 3
   },
   "file_extension": ".py",
   "mimetype": "text/x-python",
   "name": "python",
   "nbconvert_exporter": "python",
   "pygments_lexer": "ipython3",
   "version": "3.7.6"
  },
  "toc": {
   "base_numbering": 1,
   "nav_menu": {},
   "number_sections": true,
   "sideBar": true,
   "skip_h1_title": false,
   "title_cell": "Table of Contents",
   "title_sidebar": "Contents",
   "toc_cell": false,
   "toc_position": {},
   "toc_section_display": true,
   "toc_window_display": false
  },
  "varInspector": {
   "cols": {
    "lenName": 16,
    "lenType": 16,
    "lenVar": 40
   },
   "kernels_config": {
    "python": {
     "delete_cmd_postfix": "",
     "delete_cmd_prefix": "del ",
     "library": "var_list.py",
     "varRefreshCmd": "print(var_dic_list())"
    },
    "r": {
     "delete_cmd_postfix": ") ",
     "delete_cmd_prefix": "rm(",
     "library": "var_list.r",
     "varRefreshCmd": "cat(var_dic_list()) "
    }
   },
   "types_to_exclude": [
    "module",
    "function",
    "builtin_function_or_method",
    "instance",
    "_Feature"
   ],
   "window_display": false
  }
 },
 "nbformat": 4,
 "nbformat_minor": 2
}
