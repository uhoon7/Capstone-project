{
 "cells": [
  {
   "cell_type": "markdown",
   "metadata": {},
   "source": [
    "# NetworkX 모듈을 활용한 소셜 네트워크 분석"
   ]
  },
  {
   "cell_type": "code",
   "execution_count": 10,
   "metadata": {
    "ExecuteTime": {
     "end_time": "2020-09-14T12:41:55.203514Z",
     "start_time": "2020-09-14T12:41:34.833180Z"
    }
   },
   "outputs": [
    {
     "name": "stdout",
     "output_type": "stream",
     "text": [
      "Collecting package metadata (current_repodata.json): ...working... done\n",
      "Solving environment: ...working... done\n",
      "\n",
      "## Package Plan ##\n",
      "\n",
      "  environment location: C:\\Users\\82103\\anaconda3\n",
      "\n",
      "  added / updated specs:\n",
      "    - networkx\n",
      "\n",
      "\n",
      "The following packages will be downloaded:\n",
      "\n",
      "    package                    |            build\n",
      "    ---------------------------|-----------------\n",
      "    conda-4.8.4                |           py37_0         3.1 MB  anaconda\n",
      "    ------------------------------------------------------------\n",
      "                                           Total:         3.1 MB\n",
      "\n",
      "The following packages will be UPDATED:\n",
      "\n",
      "  conda                       pkgs/main::conda-4.8.2-py37_0 --> anaconda::conda-4.8.4-py37_0\n",
      "\n",
      "\n",
      "\n",
      "Downloading and Extracting Packages\n",
      "\n",
      "conda-4.8.4          | 3.1 MB    |            |   0% \n",
      "conda-4.8.4          | 3.1 MB    | 4          |   5% \n",
      "conda-4.8.4          | 3.1 MB    | ###6       |  37% \n",
      "conda-4.8.4          | 3.1 MB    | ########4  |  84% \n",
      "conda-4.8.4          | 3.1 MB    | ########## | 100% \n",
      "Preparing transaction: ...working... done\n",
      "Verifying transaction: ...working... done\n",
      "Executing transaction: ...working... done\n",
      "\n",
      "Note: you may need to restart the kernel to use updated packages.\n"
     ]
    },
    {
     "name": "stderr",
     "output_type": "stream",
     "text": [
      "\n",
      "\n",
      "==> WARNING: A newer version of conda exists. <==\n",
      "  current version: 4.8.2\n",
      "  latest version: 4.8.4\n",
      "\n",
      "Please update conda by running\n",
      "\n",
      "    $ conda update -n base -c defaults conda\n",
      "\n",
      "\n"
     ]
    }
   ],
   "source": [
    "conda install -c anaconda networkx"
   ]
  },
  {
   "cell_type": "code",
   "execution_count": 11,
   "metadata": {
    "ExecuteTime": {
     "end_time": "2020-09-14T12:42:11.967259Z",
     "start_time": "2020-09-14T12:42:11.944213Z"
    }
   },
   "outputs": [],
   "source": [
    "import networkx as nx\n",
    "import matplotlib.pyplot as plt\n",
    "%matplotlib inline\n",
    "import warnings; warnings.simplefilter('ignore')"
   ]
  },
  {
   "cell_type": "markdown",
   "metadata": {},
   "source": [
    "## 1. 소셜 네트워크 기본"
   ]
  },
  {
   "cell_type": "markdown",
   "metadata": {},
   "source": [
    "- Node, Vertex : 네트워크의 점\n",
    "- Edge, Link : 네트워크 노드 간의 관계, 연결"
   ]
  },
  {
   "cell_type": "markdown",
   "metadata": {},
   "source": [
    "### 1-1. 무방향 (undirected) 네트워크"
   ]
  },
  {
   "cell_type": "markdown",
   "metadata": {},
   "source": [
    "> 아래 네트워크는 함께 일하는 사람들의 그룹이다. 관계가 대칭이기 때문에 대칭 네트워크라고 부르고, A와 B가 관련이 있으면 B와 A도 관련이 있는 것이다."
   ]
  },
  {
   "cell_type": "code",
   "execution_count": 12,
   "metadata": {
    "ExecuteTime": {
     "end_time": "2020-09-14T12:53:58.453845Z",
     "start_time": "2020-09-14T12:53:58.437887Z"
    }
   },
   "outputs": [],
   "source": [
    "G_symmetric = nx.Graph()\n",
    "\n",
    "G_symmetric.add_edge('Steven',  'Laura')\n",
    "G_symmetric.add_edge('Steven',  'Marc')\n",
    "G_symmetric.add_edge('Steven',  'John')\n",
    "G_symmetric.add_edge('Steven',  'Michelle')\n",
    "G_symmetric.add_edge('Laura',   'Michelle')\n",
    "G_symmetric.add_edge('Michelle','Marc')\n",
    "G_symmetric.add_edge('George',  'John')\n",
    "G_symmetric.add_edge('George',  'Steven')"
   ]
  },
  {
   "cell_type": "code",
   "execution_count": 13,
   "metadata": {
    "ExecuteTime": {
     "end_time": "2020-09-14T12:54:01.215229Z",
     "start_time": "2020-09-14T12:54:01.198273Z"
    }
   },
   "outputs": [
    {
     "name": "stdout",
     "output_type": "stream",
     "text": [
      "Name: \n",
      "Type: Graph\n",
      "Number of nodes: 6\n",
      "Number of edges: 8\n",
      "Average degree:   2.6667\n"
     ]
    }
   ],
   "source": [
    "print(nx.info(G_symmetric))"
   ]
  },
  {
   "cell_type": "code",
   "execution_count": 14,
   "metadata": {
    "ExecuteTime": {
     "end_time": "2020-09-14T12:56:20.308049Z",
     "start_time": "2020-09-14T12:56:19.948881Z"
    }
   },
   "outputs": [
    {
     "data": {
      "image/png": "[encoded data removed]",
      "text/plain": [
       "<Figure size 360x360 with 1 Axes>"
      ]
     },
     "metadata": {},
     "output_type": "display_data"
    }
   ],
   "source": [
    "plt.figure(figsize=(5,5))\n",
    "nx.draw_networkx(G_symmetric)"
   ]
  },
  {
   "cell_type": "markdown",
   "metadata": {},
   "source": [
    "### 1-2. 방향 (directed) 네트워크"
   ]
  },
  {
   "cell_type": "markdown",
   "metadata": {},
   "source": [
    "> 노드 간의 관계가 자식 관계 (child of)라면 대칭이 아닌 비대칭 네트워크라고 부른다. 예를 들어 SNS에서 다른 사람을 팔로우 하는 경우가 있다. 이는 방향 네트워크라고 부른다. 앞선 nx.Graph에 이어 Directional Graph를 뜻하는 DiGraph 방식으로 네트워크를 구축할 수 있다."
   ]
  },
  {
   "cell_type": "code",
   "execution_count": 15,
   "metadata": {
    "ExecuteTime": {
     "end_time": "2020-09-14T13:01:21.854653Z",
     "start_time": "2020-09-14T13:01:21.836736Z"
    }
   },
   "outputs": [],
   "source": [
    "G_asymmetric = nx.DiGraph()\n",
    "G_asymmetric.add_edge('A','B')\n",
    "G_asymmetric.add_edge('A','D')\n",
    "G_asymmetric.add_edge('C','A')\n",
    "G_asymmetric.add_edge('D','E')"
   ]
  },
  {
   "cell_type": "code",
   "execution_count": 16,
   "metadata": {
    "ExecuteTime": {
     "end_time": "2020-09-14T13:03:36.116621Z",
     "start_time": "2020-09-14T13:03:35.952505Z"
    }
   },
   "outputs": [
    {
     "data": {
      "image/png": "[encoded data removed]",
      "text/plain": [
       "<Figure size 432x288 with 1 Axes>"
      ]
     },
     "metadata": {},
     "output_type": "display_data"
    }
   ],
   "source": [
    "nx.spring_layout(G_asymmetric)\n",
    "nx.draw_networkx(G_asymmetric)"
   ]
  },
  {
   "cell_type": "markdown",
   "metadata": {},
   "source": [
    "### 1-3. 가중 (valued) 네트워크"
   ]
  },
  {
   "cell_type": "markdown",
   "metadata": {},
   "source": [
    "> 네트워크 그래프에서 노드 간 관계의 유무 뿐 아니라 관계의 정도(가중치)를 함께 표시 할 수 있다. 관계의 정도를 나타내는 방법은 해당 링크 옆에 가중치를 직접 표시하거나, 가중치의 정도에 따라 링크 선의 굵기를 다르게 표시하는 방법이 있다."
   ]
  },
  {
   "cell_type": "code",
   "execution_count": 17,
   "metadata": {
    "ExecuteTime": {
     "end_time": "2020-09-14T13:07:31.771759Z",
     "start_time": "2020-09-14T13:07:31.756795Z"
    }
   },
   "outputs": [],
   "source": [
    "G_weighted = nx.Graph()\n",
    "\n",
    "G_weighted.add_edge('Steven',  'Laura',   weight=25)\n",
    "G_weighted.add_edge('Steven',  'Marc',    weight=8)\n",
    "G_weighted.add_edge('Steven',  'John',    weight=11)\n",
    "G_weighted.add_edge('Steven',  'Michelle',weight=1)\n",
    "G_weighted.add_edge('Laura',   'Michelle',weight=1)\n",
    "G_weighted.add_edge('Michelle','Marc',    weight=1)\n",
    "G_weighted.add_edge('George',  'John',    weight=8)\n",
    "G_weighted.add_edge('George',  'Steven',  weight=4)"
   ]
  },
  {
   "cell_type": "code",
   "execution_count": 26,
   "metadata": {
    "ExecuteTime": {
     "end_time": "2020-09-14T13:12:08.916869Z",
     "start_time": "2020-09-14T13:12:08.777230Z"
    }
   },
   "outputs": [
    {
     "data": {
      "image/png": "[encoded data removed]",
      "text/plain": [
       "<Figure size 432x288 with 1 Axes>"
      ]
     },
     "metadata": {},
     "output_type": "display_data"
    }
   ],
   "source": [
    "# 경중(가중치)의 기준을 연구 목적/주제에 맞게 설정해준다. (현재=8)\n",
    "elarge = [(u, v) for (u, v, d) in G_weighted.edges(data=True) if d['weight'] > 8]\n",
    "esmall = [(u, v) for (u, v, d) in G_weighted.edges(data=True) if d['weight'] <= 8]\n",
    "\n",
    "pos = nx.circular_layout(G_weighted)  # positions for all nodes\n",
    "\n",
    "# 노드 시각화 설정\n",
    "nx.draw_networkx_nodes(G_weighted, pos, node_size=400)\n",
    "\n",
    "# 링크 시각화 설정\n",
    "nx.draw_networkx_edges(G_weighted, pos, edgelist=elarge,width=5)\n",
    "nx.draw_networkx_edges(G_weighted, pos, edgelist=esmall,width=5, alpha=0.5, edge_color='b', style='dashed')\n",
    "\n",
    "# 노드 라벨(이름) 시각화 설정\n",
    "nx.draw_networkx_labels(G_weighted, pos, font_size=17, font_family='sans-serif')\n",
    "\n",
    "plt.axis('off')\n",
    "plt.show();"
   ]
  },
  {
   "cell_type": "markdown",
   "metadata": {},
   "source": [
    "## 2. 클러스터링 계수"
   ]
  },
  {
   "cell_type": "markdown",
   "metadata": {},
   "source": [
    "> 그래프 이론에서 각각의 노드들이 서로 뭉치는 경향을 알 수 있는 한 척도로 집단화 계수(Clustering coefficient)가 사용된다. 간단하게 말해서 특정 노드와 이웃한 노드들이 서로 연결되어 있을 확률입니다. 확률이기 때문에 0부터 1사이의 값을 갖는다."
   ]
  },
  {
   "cell_type": "code",
   "execution_count": 29,
   "metadata": {
    "ExecuteTime": {
     "end_time": "2020-09-14T13:17:00.714329Z",
     "start_time": "2020-09-14T13:17:00.705388Z"
    }
   },
   "outputs": [
    {
     "data": {
      "text/plain": [
       "0.67"
      ]
     },
     "execution_count": 29,
     "metadata": {},
     "output_type": "execute_result"
    }
   ],
   "source": [
    "round(nx.clustering(G_weighted,'Michelle'),2)"
   ]
  },
  {
   "cell_type": "code",
   "execution_count": 30,
   "metadata": {
    "ExecuteTime": {
     "end_time": "2020-09-14T13:17:08.387898Z",
     "start_time": "2020-09-14T13:17:08.370960Z"
    }
   },
   "outputs": [
    {
     "data": {
      "text/plain": [
       "0.83"
      ]
     },
     "execution_count": 30,
     "metadata": {},
     "output_type": "execute_result"
    }
   ],
   "source": [
    "round(nx.average_clustering(G_weighted),2)"
   ]
  },
  {
   "cell_type": "markdown",
   "metadata": {},
   "source": [
    "## 3. 네트워크 거리 측정"
   ]
  },
  {
   "cell_type": "markdown",
   "metadata": {},
   "source": [
    "### 3-1. 연결정도 (degree)"
   ]
  },
  {
   "cell_type": "markdown",
   "metadata": {},
   "source": [
    "> 노드에 연결된 수를 정의한다. NetworkX에는 nx.degree로 네트워크에서 노드의 연결정도를 결정할 수 있다. "
   ]
  },
  {
   "cell_type": "code",
   "execution_count": 31,
   "metadata": {
    "ExecuteTime": {
     "end_time": "2020-09-14T13:24:43.183533Z",
     "start_time": "2020-09-14T13:24:43.162620Z"
    }
   },
   "outputs": [
    {
     "data": {
      "text/plain": [
       "3"
      ]
     },
     "execution_count": 31,
     "metadata": {},
     "output_type": "execute_result"
    }
   ],
   "source": [
    "nx.degree(G_symmetric, 'Michelle')"
   ]
  },
  {
   "cell_type": "markdown",
   "metadata": {},
   "source": [
    "### 3-2. 연결거리 (distance)"
   ]
  },
  {
   "cell_type": "markdown",
   "metadata": {},
   "source": [
    "> nx.shortest_path (Graph, Node1, Node2) 및 nx.shortest_path_length (Graph, Node1, Node2) 함수를 사용하여 NetworkX에서 두 노드 간의 최단 경로와 해당 길이를 확인할 수도 있다."
   ]
  },
  {
   "cell_type": "code",
   "execution_count": 32,
   "metadata": {
    "ExecuteTime": {
     "end_time": "2020-09-14T13:26:19.702637Z",
     "start_time": "2020-09-14T13:26:19.686644Z"
    }
   },
   "outputs": [
    {
     "data": {
      "text/plain": [
       "['Michelle', 'Steven', 'John']"
      ]
     },
     "execution_count": 32,
     "metadata": {},
     "output_type": "execute_result"
    }
   ],
   "source": [
    "nx.shortest_path(G_symmetric, 'Michelle', 'John')"
   ]
  },
  {
   "cell_type": "code",
   "execution_count": 33,
   "metadata": {
    "ExecuteTime": {
     "end_time": "2020-09-14T13:26:29.604550Z",
     "start_time": "2020-09-14T13:26:29.597566Z"
    }
   },
   "outputs": [
    {
     "data": {
      "text/plain": [
       "2"
      ]
     },
     "execution_count": 33,
     "metadata": {},
     "output_type": "execute_result"
    }
   ],
   "source": [
    "nx.shortest_path_length(G_symmetric, 'Michelle', 'John')"
   ]
  },
  {
   "cell_type": "markdown",
   "metadata": {},
   "source": [
    "### 3-3. 폭 우선 검색 (breadth-first search)"
   ]
  },
  {
   "cell_type": "markdown",
   "metadata": {},
   "source": [
    "> 해당 노드에서 시작하여 폭 우선 검색 알고리즘을 사용하여 네트워크의 다른 모든 노드에서 노드까지의 거리를 찾을 수 있습니다. networkX는이를 수행하기 위해 bfs_tree 함수를 제공한다."
   ]
  },
  {
   "cell_type": "code",
   "execution_count": 36,
   "metadata": {
    "ExecuteTime": {
     "end_time": "2020-09-14T13:29:04.297268Z",
     "start_time": "2020-09-14T13:29:04.116746Z"
    }
   },
   "outputs": [
    {
     "data": {
      "image/png": "[encoded data removed]",
      "text/plain": [
       "<Figure size 432x288 with 1 Axes>"
      ]
     },
     "metadata": {},
     "output_type": "display_data"
    }
   ],
   "source": [
    "M = nx.bfs_tree(G_symmetric, 'Michelle')\n",
    "nx.draw_networkx(M)"
   ]
  },
  {
   "cell_type": "markdown",
   "metadata": {},
   "source": [
    "## 4. 중심성 측정"
   ]
  },
  {
   "cell_type": "markdown",
   "metadata": {},
   "source": [
    "> 중심성 측정은 네트워크에서 가장 중요한 노드를 찾는 방법이다. 프리드만은 네트워크 상에서 각 노드의 중심성을 측정하는 세 가지 지표를 소개했다. \n",
    "1. 연결정도 중심성 (Degree centrality)\n",
    "2. 근접 중심성 (Closeness centrality)\n",
    "3. 매개 중심성 (Betweenness centrality)"
   ]
  },
  {
   "cell_type": "markdown",
   "metadata": {},
   "source": [
    "### 4-1. 연결정도 중심성"
   ]
  },
  {
   "cell_type": "markdown",
   "metadata": {},
   "source": [
    "> 노드에 연결된 수를 측정 한다. 중요한 노드에는 많은 연결이 있다는 사실을 기반으로 한다. NetworkX에는 네트워크의 모든 노드의 중심성을 계산하는 degree_centrality () 함수가 있다."
   ]
  },
  {
   "cell_type": "code",
   "execution_count": 37,
   "metadata": {
    "ExecuteTime": {
     "end_time": "2020-09-14T13:38:05.604567Z",
     "start_time": "2020-09-14T13:38:05.588612Z"
    }
   },
   "outputs": [
    {
     "data": {
      "text/plain": [
       "{'Steven': 1.0,\n",
       " 'Laura': 0.4,\n",
       " 'Marc': 0.4,\n",
       " 'John': 0.4,\n",
       " 'Michelle': 0.6000000000000001,\n",
       " 'George': 0.4}"
      ]
     },
     "execution_count": 37,
     "metadata": {},
     "output_type": "execute_result"
    }
   ],
   "source": [
    "nx.degree_centrality(G_symmetric)"
   ]
  },
  {
   "cell_type": "markdown",
   "metadata": {},
   "source": [
    "### 4-2. 근접 중심성"
   ]
  },
  {
   "cell_type": "markdown",
   "metadata": {},
   "source": [
    "> 근접 중심성은 각 노드의 중요도가 다른 모든 노드에 대한 근접성에 의해 결정되는 측정이다."
   ]
  },
  {
   "cell_type": "code",
   "execution_count": 39,
   "metadata": {
    "ExecuteTime": {
     "end_time": "2020-09-14T13:39:37.761419Z",
     "start_time": "2020-09-14T13:39:37.747475Z"
    }
   },
   "outputs": [
    {
     "data": {
      "text/plain": [
       "{'Steven': 1.0,\n",
       " 'Laura': 0.625,\n",
       " 'Marc': 0.625,\n",
       " 'John': 0.625,\n",
       " 'Michelle': 0.7142857142857143,\n",
       " 'George': 0.625}"
      ]
     },
     "execution_count": 39,
     "metadata": {},
     "output_type": "execute_result"
    }
   ],
   "source": [
    "nx.closeness_centrality(G_symmetric)"
   ]
  },
  {
   "cell_type": "markdown",
   "metadata": {},
   "source": [
    "### 4-3. 매개 중심성"
   ]
  },
  {
   "cell_type": "markdown",
   "metadata": {},
   "source": [
    "> 매개 중심성이 높은 노드는 네트워크 내의 통신 / 정보 흐름에서 중요한 역할을 한다. 산출법은 특정 노드가 다른 두 노드 사이에서 선택한 최단 경로로 오는 횟수를 수량화하는 것이다. Networkx에는 네트워크를 측정하는 betweenness_centrality () 함수가 있다. 사이 값을 정규화할지 여부, 가중치를 중심성 계산에 포함할지 여부를 선택하고 최단 경로 수에 끝점을 포함할지 여부를 선택할 수있는 옵션이 있다."
   ]
  },
  {
   "cell_type": "code",
   "execution_count": 40,
   "metadata": {
    "ExecuteTime": {
     "end_time": "2020-09-14T13:39:57.536083Z",
     "start_time": "2020-09-14T13:39:57.528069Z"
    }
   },
   "outputs": [
    {
     "data": {
      "text/plain": [
       "{'Steven': 0.65,\n",
       " 'Laura': 0.0,\n",
       " 'Marc': 0.0,\n",
       " 'John': 0.0,\n",
       " 'Michelle': 0.05,\n",
       " 'George': 0.0}"
      ]
     },
     "execution_count": 40,
     "metadata": {},
     "output_type": "execute_result"
    }
   ],
   "source": [
    "nx.betweenness_centrality(G_symmetric)"
   ]
  },
  {
   "cell_type": "code",
   "execution_count": 41,
   "metadata": {
    "ExecuteTime": {
     "end_time": "2020-09-14T13:40:04.305691Z",
     "start_time": "2020-09-14T13:40:04.138910Z"
    }
   },
   "outputs": [
    {
     "data": {
      "image/png": "[encoded data removed]",
      "text/plain": [
       "<Figure size 720x720 with 1 Axes>"
      ]
     },
     "metadata": {},
     "output_type": "display_data"
    }
   ],
   "source": [
    "pos = nx.spring_layout(G_symmetric)\n",
    "betCent = nx.betweenness_centrality(G_symmetric, normalized=True, endpoints=True)\n",
    "node_color = [20000.0 * G_symmetric.degree(v) for v in G_symmetric]\n",
    "node_size =  [v * 10000 for v in betCent.values()]\n",
    "plt.figure(figsize=(10,10))\n",
    "nx.draw_networkx(G_symmetric, pos=pos, with_labels=True,\n",
    "                 node_color=node_color,\n",
    "                 node_size=node_size )\n",
    "plt.axis('off');"
   ]
  },
  {
   "cell_type": "code",
   "execution_count": 42,
   "metadata": {
    "ExecuteTime": {
     "end_time": "2020-09-14T13:44:02.543443Z",
     "start_time": "2020-09-14T13:44:02.523496Z"
    }
   },
   "outputs": [
    {
     "data": {
      "text/plain": [
       "['Steven', 'Michelle', 'Laura', 'Marc', 'John']"
      ]
     },
     "execution_count": 42,
     "metadata": {},
     "output_type": "execute_result"
    }
   ],
   "source": [
    "sorted(betCent, key=betCent.get, reverse=True)[:5]"
   ]
  }
 ],
 "metadata": {
  "kernelspec": {
   "display_name": "Python 3",
   "language": "python",
   "name": "python3"
  },
  "language_info": {
   "codemirror_mode": {
    "name": "ipython",
    "version": 3
   },
   "file_extension": ".py",
   "mimetype": "text/x-python",
   "name": "python",
   "nbconvert_exporter": "python",
   "pygments_lexer": "ipython3",
   "version": "3.7.6"
  },
  "toc": {
   "base_numbering": 1,
   "nav_menu": {},
   "number_sections": false,
   "sideBar": true,
   "skip_h1_title": false,
   "title_cell": "Table of Contents",
   "title_sidebar": "Contents",
   "toc_cell": false,
   "toc_position": {
    "height": "calc(100% - 180px)",
    "left": "10px",
    "top": "150px",
    "width": "384px"
   },
   "toc_section_display": true,
   "toc_window_display": true
  },
  "varInspector": {
   "cols": {
    "lenName": 16,
    "lenType": 16,
    "lenVar": 40
   },
   "kernels_config": {
    "python": {
     "delete_cmd_postfix": "",
     "delete_cmd_prefix": "del ",
     "library": "var_list.py",
     "varRefreshCmd": "print(var_dic_list())"
    },
    "r": {
     "delete_cmd_postfix": ") ",
     "delete_cmd_prefix": "rm(",
     "library": "var_list.r",
     "varRefreshCmd": "cat(var_dic_list()) "
    }
   },
   "types_to_exclude": [
    "module",
    "function",
    "builtin_function_or_method",
    "instance",
    "_Feature"
   ],
   "window_display": false
  }
 },
 "nbformat": 4,
 "nbformat_minor": 4
}
